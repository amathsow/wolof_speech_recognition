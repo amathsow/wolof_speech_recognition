{
  "nbformat": 4,
  "nbformat_minor": 0,
  "metadata": {
    "colab": {
      "name": "Speech recognition project.ipynb",
      "provenance": [],
      "authorship_tag": "ABX9TyPYA9TMFrLINDU17RERueqf",
      "include_colab_link": true
    },
    "kernelspec": {
      "name": "python3",
      "display_name": "Python 3"
    },
    "accelerator": "GPU"
  },
  "cells": [
    {
      "cell_type": "markdown",
      "metadata": {
        "id": "view-in-github",
        "colab_type": "text"
      },
      "source": [
        "<a href=\"https://colab.research.google.com/github/amathsow/wolof_speech_recognition/blob/master/Speech_recognition_project.ipynb\" target=\"_parent\"><img src=\"https://colab.research.google.com/assets/colab-badge.svg\" alt=\"Open In Colab\"/></a>"
      ]
    },
    {
      "cell_type": "code",
      "metadata": {
        "id": "7X6bM_hnAPd-",
        "colab_type": "code",
        "colab": {
          "base_uri": "https://localhost:8080/",
          "height": 869
        },
        "outputId": "744a9a9c-eec1-4489-e35a-69251c2830ca"
      },
      "source": [
        "!pip3 install torch\n",
        "!pip3 install torchvision\n",
        "!pip3 install torchaudio\n",
        "!pip install comet_ml\n"
      ],
      "execution_count": 1,
      "outputs": [
        {
          "output_type": "stream",
          "text": [
            "Requirement already satisfied: torch in /usr/local/lib/python3.6/dist-packages (1.5.1+cu101)\n",
            "Requirement already satisfied: numpy in /usr/local/lib/python3.6/dist-packages (from torch) (1.18.5)\n",
            "Requirement already satisfied: future in /usr/local/lib/python3.6/dist-packages (from torch) (0.16.0)\n",
            "Requirement already satisfied: torchvision in /usr/local/lib/python3.6/dist-packages (0.6.1+cu101)\n",
            "Requirement already satisfied: torch==1.5.1 in /usr/local/lib/python3.6/dist-packages (from torchvision) (1.5.1+cu101)\n",
            "Requirement already satisfied: numpy in /usr/local/lib/python3.6/dist-packages (from torchvision) (1.18.5)\n",
            "Requirement already satisfied: pillow>=4.1.1 in /usr/local/lib/python3.6/dist-packages (from torchvision) (7.0.0)\n",
            "Requirement already satisfied: future in /usr/local/lib/python3.6/dist-packages (from torch==1.5.1->torchvision) (0.16.0)\n",
            "Collecting torchaudio\n",
            "\u001b[?25l  Downloading https://files.pythonhosted.org/packages/e9/0a/40e53c686c2af65b2a4e818d11d9b76fa79178440caf99f3ceb2a32c3b04/torchaudio-0.5.1-cp36-cp36m-manylinux1_x86_64.whl (3.2MB)\n",
            "\u001b[K     |████████████████████████████████| 3.2MB 4.5MB/s \n",
            "\u001b[?25hRequirement already satisfied: torch==1.5.1 in /usr/local/lib/python3.6/dist-packages (from torchaudio) (1.5.1+cu101)\n",
            "Requirement already satisfied: numpy in /usr/local/lib/python3.6/dist-packages (from torch==1.5.1->torchaudio) (1.18.5)\n",
            "Requirement already satisfied: future in /usr/local/lib/python3.6/dist-packages (from torch==1.5.1->torchaudio) (0.16.0)\n",
            "Installing collected packages: torchaudio\n",
            "Successfully installed torchaudio-0.5.1\n",
            "Collecting comet_ml\n",
            "\u001b[?25l  Downloading https://files.pythonhosted.org/packages/ac/d8/99564b9b0d68a8acce733a5b053497a4a51e3ffdc54e4b117808bd6c4c94/comet_ml-3.1.12-py2.py3-none-any.whl (214kB)\n",
            "\u001b[K     |████████████████████████████████| 215kB 4.5MB/s \n",
            "\u001b[?25hCollecting wurlitzer>=1.0.2\n",
            "  Downloading https://files.pythonhosted.org/packages/0c/1e/52f4effa64a447c4ec0fb71222799e2ac32c55b4b6c1725fccdf6123146e/wurlitzer-2.0.1-py2.py3-none-any.whl\n",
            "Requirement already satisfied: requests>=2.18.4 in /usr/local/lib/python3.6/dist-packages (from comet_ml) (2.23.0)\n",
            "Collecting everett[ini]>=1.0.1; python_version >= \"3.0\"\n",
            "  Downloading https://files.pythonhosted.org/packages/12/34/de70a3d913411e40ce84966f085b5da0c6df741e28c86721114dd290aaa0/everett-1.0.2-py2.py3-none-any.whl\n",
            "Requirement already satisfied: jsonschema!=3.1.0,>=2.6.0 in /usr/local/lib/python3.6/dist-packages (from comet_ml) (2.6.0)\n",
            "Collecting netifaces>=0.10.7\n",
            "  Downloading https://files.pythonhosted.org/packages/0c/9b/c4c7eb09189548d45939a3d3a6b3d53979c67d124459b27a094c365c347f/netifaces-0.10.9-cp36-cp36m-manylinux1_x86_64.whl\n",
            "Collecting comet-git-pure>=0.19.11\n",
            "\u001b[?25l  Downloading https://files.pythonhosted.org/packages/72/7a/483413046e48908986a0f9a1d8a917e1da46ae58e6ba16b2ac71b3adf8d7/comet_git_pure-0.19.16-py3-none-any.whl (409kB)\n",
            "\u001b[K     |████████████████████████████████| 419kB 12.4MB/s \n",
            "\u001b[?25hRequirement already satisfied: nvidia-ml-py3>=7.352.0 in /usr/local/lib/python3.6/dist-packages (from comet_ml) (7.352.0)\n",
            "Collecting websocket-client>=0.55.0\n",
            "\u001b[?25l  Downloading https://files.pythonhosted.org/packages/4c/5f/f61b420143ed1c8dc69f9eaec5ff1ac36109d52c80de49d66e0c36c3dfdf/websocket_client-0.57.0-py2.py3-none-any.whl (200kB)\n",
            "\u001b[K     |████████████████████████████████| 204kB 19.7MB/s \n",
            "\u001b[?25hRequirement already satisfied: six in /usr/local/lib/python3.6/dist-packages (from comet_ml) (1.12.0)\n",
            "Requirement already satisfied: certifi>=2017.4.17 in /usr/local/lib/python3.6/dist-packages (from requests>=2.18.4->comet_ml) (2020.6.20)\n",
            "Requirement already satisfied: idna<3,>=2.5 in /usr/local/lib/python3.6/dist-packages (from requests>=2.18.4->comet_ml) (2.9)\n",
            "Requirement already satisfied: urllib3!=1.25.0,!=1.25.1,<1.26,>=1.21.1 in /usr/local/lib/python3.6/dist-packages (from requests>=2.18.4->comet_ml) (1.24.3)\n",
            "Requirement already satisfied: chardet<4,>=3.0.2 in /usr/local/lib/python3.6/dist-packages (from requests>=2.18.4->comet_ml) (3.0.4)\n",
            "Collecting configobj; extra == \"ini\"\n",
            "  Downloading https://files.pythonhosted.org/packages/64/61/079eb60459c44929e684fa7d9e2fdca403f67d64dd9dbac27296be2e0fab/configobj-5.0.6.tar.gz\n",
            "Building wheels for collected packages: configobj\n",
            "  Building wheel for configobj (setup.py) ... \u001b[?25l\u001b[?25hdone\n",
            "  Created wheel for configobj: filename=configobj-5.0.6-cp36-none-any.whl size=34546 sha256=722443d4f7b03fd6ba7b751f8fbc93daec0b62e7e4368f8597a68189a6f77cb4\n",
            "  Stored in directory: /root/.cache/pip/wheels/f1/e4/16/4981ca97c2d65106b49861e0b35e2660695be7219a2d351ee0\n",
            "Successfully built configobj\n",
            "Installing collected packages: wurlitzer, configobj, everett, netifaces, comet-git-pure, websocket-client, comet-ml\n",
            "Successfully installed comet-git-pure-0.19.16 comet-ml-3.1.12 configobj-5.0.6 everett-1.0.2 netifaces-0.10.9 websocket-client-0.57.0 wurlitzer-2.0.1\n"
          ],
          "name": "stdout"
        }
      ]
    },
    {
      "cell_type": "code",
      "metadata": {
        "id": "HwI2tmIr_S11",
        "colab_type": "code",
        "colab": {}
      },
      "source": [
        "import os\n",
        "from comet_ml import Experiment\n",
        "import torch\n",
        "import torch.nn as nn\n",
        "import torch.utils.data as data\n",
        "import torch.optim as optim\n",
        "import torch.nn.functional as F\n",
        "import torchaudio\n",
        "import numpy as np\n",
        "import pandas as pd\n",
        "import librosa"
      ],
      "execution_count": 2,
      "outputs": []
    },
    {
      "cell_type": "markdown",
      "metadata": {
        "id": "tNbD-pQOBm6Y",
        "colab_type": "text"
      },
      "source": [
        "## ETL process"
      ]
    },
    {
      "cell_type": "code",
      "metadata": {
        "id": "otyhGraoAiS7",
        "colab_type": "code",
        "colab": {
          "base_uri": "https://localhost:8080/",
          "height": 124
        },
        "outputId": "ae8ed5d2-b9c5-4bf6-9c0e-d891c419f161"
      },
      "source": [
        "from google.colab import drive\n",
        "drive.mount('/content/drive')"
      ],
      "execution_count": 3,
      "outputs": [
        {
          "output_type": "stream",
          "text": [
            "Go to this URL in a browser: https://accounts.google.com/o/oauth2/auth?client_id=947318989803-6bn6qk8qdgf4n4g3pfee6491hc0brc4i.apps.googleusercontent.com&redirect_uri=urn%3aietf%3awg%3aoauth%3a2.0%3aoob&response_type=code&scope=email%20https%3a%2f%2fwww.googleapis.com%2fauth%2fdocs.test%20https%3a%2f%2fwww.googleapis.com%2fauth%2fdrive%20https%3a%2f%2fwww.googleapis.com%2fauth%2fdrive.photos.readonly%20https%3a%2f%2fwww.googleapis.com%2fauth%2fpeopleapi.readonly\n",
            "\n",
            "Enter your authorization code:\n",
            "··········\n",
            "Mounted at /content/drive\n"
          ],
          "name": "stdout"
        }
      ]
    },
    {
      "cell_type": "code",
      "metadata": {
        "id": "Rki3QAn3Phie",
        "colab_type": "code",
        "colab": {}
      },
      "source": [
        "path_audio= 'drive/My Drive/Speech Recognition project/recordings/'\n",
        "path_text = 'drive/My Drive/Speech Recognition project/wolof_text/'\n",
        "wav_text = 'drive/My Drive/Speech Recognition project/Wavtext_dataset2.csv'"
      ],
      "execution_count": 4,
      "outputs": []
    },
    {
      "cell_type": "markdown",
      "metadata": {
        "id": "xa5hWojcFenl",
        "colab_type": "text"
      },
      "source": [
        "## Data preparation for created the char.txt file from my dataset."
      ]
    },
    {
      "cell_type": "code",
      "metadata": {
        "id": "-LuFd0mO6hHz",
        "colab_type": "code",
        "colab": {}
      },
      "source": [
        "datapath = 'drive/My Drive/Speech Recognition project/data/records'"
      ],
      "execution_count": 12,
      "outputs": []
    },
    {
      "cell_type": "code",
      "metadata": {
        "id": "w0NEAVLvsEpq",
        "colab_type": "code",
        "colab": {}
      },
      "source": [
        "trainpath = '../drive/My Drive/Speech Recognition project/data/records/train/'\n",
        "valpath =  '../drive/My Drive/Speech Recognition project/data/records/val/'\n",
        "testpath =  '../drive/My Drive/Speech Recognition project/data/records/test/'\n"
      ],
      "execution_count": 13,
      "outputs": []
    },
    {
      "cell_type": "markdown",
      "metadata": {
        "id": "2H64rod3vYUJ",
        "colab_type": "text"
      },
      "source": [
        "## Let's create the dataset"
      ]
    },
    {
      "cell_type": "code",
      "metadata": {
        "id": "HhV26K3yUNAs",
        "colab_type": "code",
        "colab": {
          "base_uri": "https://localhost:8080/",
          "height": 121
        },
        "outputId": "8be3e28e-f571-46fa-f3e4-6d1b9806d697"
      },
      "source": [
        "! git clone https://github.com/facebookresearch/CPC_audio.git"
      ],
      "execution_count": 14,
      "outputs": [
        {
          "output_type": "stream",
          "text": [
            "Cloning into 'CPC_audio'...\n",
            "remote: Enumerating objects: 84, done.\u001b[K\n",
            "remote: Counting objects: 100% (84/84), done.\u001b[K\n",
            "remote: Compressing objects: 100% (65/65), done.\u001b[K\n",
            "remote: Total 84 (delta 13), reused 75 (delta 6), pack-reused 0\u001b[K\n",
            "Unpacking objects: 100% (84/84), done.\n"
          ],
          "name": "stdout"
        }
      ]
    },
    {
      "cell_type": "code",
      "metadata": {
        "id": "Qg1BhWMt3J0j",
        "colab_type": "code",
        "colab": {
          "base_uri": "https://localhost:8080/",
          "height": 211
        },
        "outputId": "9466e857-f422-4650-bdc8-f9dc9f655821"
      },
      "source": [
        "!pip install soundfile\n",
        "!pip install torchaudio"
      ],
      "execution_count": 15,
      "outputs": [
        {
          "output_type": "stream",
          "text": [
            "Collecting soundfile\n",
            "  Downloading https://files.pythonhosted.org/packages/eb/f2/3cbbbf3b96fb9fa91582c438b574cff3f45b29c772f94c400e2c99ef5db9/SoundFile-0.10.3.post1-py2.py3-none-any.whl\n",
            "Requirement already satisfied: cffi>=1.0 in /usr/local/lib/python3.6/dist-packages (from soundfile) (1.14.0)\n",
            "Requirement already satisfied: pycparser in /usr/local/lib/python3.6/dist-packages (from cffi>=1.0->soundfile) (2.20)\n",
            "Installing collected packages: soundfile\n",
            "Successfully installed soundfile-0.10.3.post1\n",
            "Requirement already satisfied: torchaudio in /usr/local/lib/python3.6/dist-packages (0.5.1)\n",
            "Requirement already satisfied: torch==1.5.1 in /usr/local/lib/python3.6/dist-packages (from torchaudio) (1.5.1+cu101)\n",
            "Requirement already satisfied: future in /usr/local/lib/python3.6/dist-packages (from torch==1.5.1->torchaudio) (0.16.0)\n",
            "Requirement already satisfied: numpy in /usr/local/lib/python3.6/dist-packages (from torch==1.5.1->torchaudio) (1.18.5)\n"
          ],
          "name": "stdout"
        }
      ]
    },
    {
      "cell_type": "code",
      "metadata": {
        "id": "rqsomBSA4ECR",
        "colab_type": "code",
        "colab": {
          "base_uri": "https://localhost:8080/",
          "height": 627
        },
        "outputId": "3d1e8edb-eb8b-4209-9845-a3745e90fede"
      },
      "source": [
        "!mkdir checkpoint_data\n",
        "!wget https://dl.fbaipublicfiles.com/librilight/CPC_checkpoints/not_hub/2levels_6k_top_ctc/checkpoint_30.pt -P checkpoint_data\n",
        "!wget https://dl.fbaipublicfiles.com/librilight/CPC_checkpoints/not_hub/2levels_6k_top_ctc/checkpoint_logs.json -P checkpoint_data\n",
        "!wget https://dl.fbaipublicfiles.com/librilight/CPC_checkpoints/not_hub/2levels_6k_top_ctc/checkpoint_args.json -P checkpoint_data\n",
        "!ls checkpoint_data"
      ],
      "execution_count": 16,
      "outputs": [
        {
          "output_type": "stream",
          "text": [
            "--2020-07-06 17:44:26--  https://dl.fbaipublicfiles.com/librilight/CPC_checkpoints/not_hub/2levels_6k_top_ctc/checkpoint_30.pt\n",
            "Resolving dl.fbaipublicfiles.com (dl.fbaipublicfiles.com)... 104.22.75.142, 172.67.9.4, 104.22.74.142, ...\n",
            "Connecting to dl.fbaipublicfiles.com (dl.fbaipublicfiles.com)|104.22.75.142|:443... connected.\n",
            "HTTP request sent, awaiting response... 200 OK\n",
            "Length: 113599715 (108M) [application/octet-stream]\n",
            "Saving to: ‘checkpoint_data/checkpoint_30.pt’\n",
            "\n",
            "checkpoint_30.pt    100%[===================>] 108.34M  86.0MB/s    in 1.3s    \n",
            "\n",
            "2020-07-06 17:44:27 (86.0 MB/s) - ‘checkpoint_data/checkpoint_30.pt’ saved [113599715/113599715]\n",
            "\n",
            "--2020-07-06 17:44:29--  https://dl.fbaipublicfiles.com/librilight/CPC_checkpoints/not_hub/2levels_6k_top_ctc/checkpoint_logs.json\n",
            "Resolving dl.fbaipublicfiles.com (dl.fbaipublicfiles.com)... 172.67.9.4, 104.22.75.142, 104.22.74.142, ...\n",
            "Connecting to dl.fbaipublicfiles.com (dl.fbaipublicfiles.com)|172.67.9.4|:443... connected.\n",
            "HTTP request sent, awaiting response... 200 OK\n",
            "Length: 20786 (20K) [text/plain]\n",
            "Saving to: ‘checkpoint_data/checkpoint_logs.json’\n",
            "\n",
            "checkpoint_logs.jso 100%[===================>]  20.30K  --.-KB/s    in 0.007s  \n",
            "\n",
            "2020-07-06 17:44:29 (2.95 MB/s) - ‘checkpoint_data/checkpoint_logs.json’ saved [20786/20786]\n",
            "\n",
            "--2020-07-06 17:44:30--  https://dl.fbaipublicfiles.com/librilight/CPC_checkpoints/not_hub/2levels_6k_top_ctc/checkpoint_args.json\n",
            "Resolving dl.fbaipublicfiles.com (dl.fbaipublicfiles.com)... 104.22.74.142, 104.22.75.142, 172.67.9.4, ...\n",
            "Connecting to dl.fbaipublicfiles.com (dl.fbaipublicfiles.com)|104.22.74.142|:443... connected.\n",
            "HTTP request sent, awaiting response... 200 OK\n",
            "Length: 2063 (2.0K) [text/plain]\n",
            "Saving to: ‘checkpoint_data/checkpoint_args.json’\n",
            "\n",
            "checkpoint_args.jso 100%[===================>]   2.01K  --.-KB/s    in 0s      \n",
            "\n",
            "2020-07-06 17:44:30 (43.9 MB/s) - ‘checkpoint_data/checkpoint_args.json’ saved [2063/2063]\n",
            "\n",
            "checkpoint_30.pt  checkpoint_args.json\tcheckpoint_logs.json\n"
          ],
          "name": "stdout"
        }
      ]
    },
    {
      "cell_type": "code",
      "metadata": {
        "id": "Pn-uKos0xU_N",
        "colab_type": "code",
        "colab": {}
      },
      "source": [
        "import torch\n",
        "import torchaudio"
      ],
      "execution_count": 17,
      "outputs": []
    },
    {
      "cell_type": "code",
      "metadata": {
        "id": "18UXDdxp1m1m",
        "colab_type": "code",
        "colab": {
          "base_uri": "https://localhost:8080/",
          "height": 35
        },
        "outputId": "7846210c-4617-4dc8-bc76-80927b2a945a"
      },
      "source": [
        "%cd CPC_audio/\n",
        "from cpc.model import CPCEncoder, CPCAR\n",
        "device = torch.device(\"cuda:0\" if torch.cuda.is_available() else \"cpu\")\n",
        "\n",
        "DIM_ENCODER=256\n",
        "DIM_CONTEXT=256\n",
        "KEEP_HIDDEN_VECTOR=False\n",
        "N_LEVELS_CONTEXT=1\n",
        "CONTEXT_RNN=\"LSTM\"\n",
        "N_PREDICTIONS=12\n",
        "LEARNING_RATE=2e-4\n",
        "N_NEGATIVE_SAMPLE =128"
      ],
      "execution_count": 18,
      "outputs": [
        {
          "output_type": "stream",
          "text": [
            "/content/CPC_audio\n"
          ],
          "name": "stdout"
        }
      ]
    },
    {
      "cell_type": "code",
      "metadata": {
        "id": "1ds8MfOFXCVe",
        "colab_type": "code",
        "colab": {}
      },
      "source": [
        "encoder = CPCEncoder(DIM_ENCODER).to(device)\n",
        "context = CPCAR(DIM_ENCODER, DIM_CONTEXT, KEEP_HIDDEN_VECTOR, 1, mode=CONTEXT_RNN).to(device)"
      ],
      "execution_count": 19,
      "outputs": []
    },
    {
      "cell_type": "code",
      "metadata": {
        "id": "eYKFm4V_XCIA",
        "colab_type": "code",
        "colab": {}
      },
      "source": [
        "# Several functions that will be necessary to load the data later\n",
        "from cpc.dataset import findAllSeqs, AudioBatchData, parseSeqLabels\n",
        "SIZE_WINDOW = 20480\n",
        "BATCH_SIZE=8\n",
        "def load_dataset(path_dataset, file_extension='.flac', phone_label_dict=None):\n",
        "  data_list, speakers = findAllSeqs(path_dataset, extension=file_extension)\n",
        "  dataset = AudioBatchData(path_dataset, SIZE_WINDOW, data_list, phone_label_dict, len(speakers))\n",
        "  return dataset"
      ],
      "execution_count": 20,
      "outputs": []
    },
    {
      "cell_type": "code",
      "metadata": {
        "id": "zInrR2sB3h_j",
        "colab_type": "code",
        "colab": {}
      },
      "source": [
        "class CPCModel(torch.nn.Module):\n",
        "\n",
        "    def __init__(self,\n",
        "                 encoder,\n",
        "                 AR):\n",
        "\n",
        "        super(CPCModel, self).__init__()\n",
        "        self.gEncoder = encoder\n",
        "        self.gAR = AR\n",
        "\n",
        "    def forward(self, batch_data):\n",
        "        \n",
        "\n",
        "        encoder_output = self.gEncoder(batch_data)\n",
        "        #print(encoder_output.shape)\n",
        "        # The output of the encoder data does not have the good format \n",
        "        # indeed it is Batch_size x Hidden_size x temp size\n",
        "        # while the context requires Batch_size  x temp size x Hidden_size\n",
        "        # thus you need to permute\n",
        "        context_input = encoder_output.permute(0, 2, 1)\n",
        "\n",
        "        context_output = self.gAR(context_input)\n",
        "        #print(context_output.shape)\n",
        "        return context_output, encoder_output"
      ],
      "execution_count": 21,
      "outputs": []
    },
    {
      "cell_type": "code",
      "metadata": {
        "id": "q2pxJiQzYhqG",
        "colab_type": "code",
        "colab": {}
      },
      "source": [
        "datapath ='../drive/My Drive/Speech Recognition project/data/records/'\n",
        "datapath2 ='../drive/My Drive/Speech Recognition project/data/'"
      ],
      "execution_count": 22,
      "outputs": []
    },
    {
      "cell_type": "code",
      "metadata": {
        "id": "iewtMBkqkdKw",
        "colab_type": "code",
        "colab": {
          "base_uri": "https://localhost:8080/",
          "height": 69
        },
        "outputId": "6416c136-fc58-428f-cb8a-0c5711e6c294"
      },
      "source": [
        "!ls .. /checkpoint_data/checkpoint_30.pt"
      ],
      "execution_count": 23,
      "outputs": [
        {
          "output_type": "stream",
          "text": [
            "ls: cannot access '/checkpoint_data/checkpoint_30.pt': No such file or directory\n",
            "..:\n",
            "checkpoint_data  CPC_audio  drive  sample_data\n"
          ],
          "name": "stdout"
        }
      ]
    },
    {
      "cell_type": "code",
      "metadata": {
        "id": "1BsZU7S05ipI",
        "colab_type": "code",
        "colab": {
          "base_uri": "https://localhost:8080/",
          "height": 575
        },
        "outputId": "a15f7156-c558-475a-b1b9-ef376814131e"
      },
      "source": [
        "%cd CPC_audio/\n",
        "from cpc.dataset import parseSeqLabels\n",
        "from cpc.feature_loader import loadModel\n",
        "\n",
        "checkpoint_path = '../checkpoint_data/checkpoint_30.pt'\n",
        "cpc_model, HIDDEN_CONTEXT_MODEL, HIDDEN_ENCODER_MODEL = loadModel([checkpoint_path])\n",
        "cpc_model = cpc_model.cuda()\n",
        "label_dict, N_PHONES = parseSeqLabels(datapath2+'chars2.txt')\n",
        "dataset_train = load_dataset(datapath+'train', file_extension='.wav', phone_label_dict=label_dict)\n",
        "dataset_val = load_dataset(datapath+'val', file_extension='.wav', phone_label_dict=label_dict)\n",
        "dataset_test = load_dataset(datapath+'test', file_extension='.wav', phone_label_dict=label_dict)\n",
        "data_loader_train = dataset_train.getDataLoader(BATCH_SIZE, \"speaker\", True)\n",
        "data_loader_val = dataset_val.getDataLoader(BATCH_SIZE, \"sequence\", False)\n",
        "data_loader_test = dataset_test.getDataLoader(BATCH_SIZE, \"sequence\", False)"
      ],
      "execution_count": 24,
      "outputs": [
        {
          "output_type": "stream",
          "text": [
            "[Errno 2] No such file or directory: 'CPC_audio/'\n",
            "/content/CPC_audio\n",
            "Loading checkpoint ../checkpoint_data/checkpoint_30.pt\n",
            "Loading the state dict at ../checkpoint_data/checkpoint_30.pt\n"
          ],
          "name": "stdout"
        },
        {
          "output_type": "stream",
          "text": [
            "1it [00:09,  9.21s/it]\n"
          ],
          "name": "stderr"
        },
        {
          "output_type": "stream",
          "text": [
            "Saved cache file at ../drive/My Drive/Speech Recognition project/data/records/train/_seqs_cache.txt\n",
            "Checking length...\n"
          ],
          "name": "stdout"
        },
        {
          "output_type": "stream",
          "text": [
            "995it [00:00, 1543963.18it/s]\n"
          ],
          "name": "stderr"
        },
        {
          "output_type": "stream",
          "text": [
            "Done, elapsed: 227.546 seconds\n",
            "Scanned 995 sequences in 227.55 seconds\n",
            "1 chunks computed\n",
            "Joining pool\n"
          ],
          "name": "stdout"
        },
        {
          "output_type": "stream",
          "text": [
            "\r0it [00:00, ?it/s]"
          ],
          "name": "stderr"
        },
        {
          "output_type": "stream",
          "text": [
            "Joined process, elapsed=63.710 secs\n"
          ],
          "name": "stdout"
        },
        {
          "output_type": "stream",
          "text": [
            "1it [00:02,  2.77s/it]\n"
          ],
          "name": "stderr"
        },
        {
          "output_type": "stream",
          "text": [
            "Saved cache file at ../drive/My Drive/Speech Recognition project/data/records/val/_seqs_cache.txt\n",
            "Checking length...\n"
          ],
          "name": "stdout"
        },
        {
          "output_type": "stream",
          "text": [
            "250it [00:00, 137789.22it/s]\n"
          ],
          "name": "stderr"
        },
        {
          "output_type": "stream",
          "text": [
            "Done, elapsed: 79.040 seconds\n",
            "Scanned 250 sequences in 79.04 seconds\n",
            "1 chunks computed\n",
            "Joining pool\n"
          ],
          "name": "stdout"
        },
        {
          "output_type": "stream",
          "text": [
            "\r0it [00:00, ?it/s]"
          ],
          "name": "stderr"
        },
        {
          "output_type": "stream",
          "text": [
            "Joined process, elapsed=12.194 secs\n"
          ],
          "name": "stdout"
        },
        {
          "output_type": "stream",
          "text": [
            "1it [00:09,  9.63s/it]\n"
          ],
          "name": "stderr"
        },
        {
          "output_type": "stream",
          "text": [
            "Saved cache file at ../drive/My Drive/Speech Recognition project/data/records/test/_seqs_cache.txt\n",
            "Checking length...\n"
          ],
          "name": "stdout"
        },
        {
          "output_type": "stream",
          "text": [
            "1231it [00:00, 375395.39it/s]\n"
          ],
          "name": "stderr"
        },
        {
          "output_type": "stream",
          "text": [
            "Done, elapsed: 225.518 seconds\n",
            "Scanned 1231 sequences in 225.52 seconds\n",
            "1 chunks computed\n",
            "Joining pool\n",
            "Joined process, elapsed=22.864 secs\n"
          ],
          "name": "stdout"
        }
      ]
    },
    {
      "cell_type": "markdown",
      "metadata": {
        "id": "z9pYy4gP6Vi1",
        "colab_type": "text"
      },
      "source": [
        "## Create Model"
      ]
    },
    {
      "cell_type": "code",
      "metadata": {
        "id": "UBn0Kkth5Oz0",
        "colab_type": "code",
        "colab": {}
      },
      "source": [
        "class PhoneClassifier(torch.nn.Module):\n",
        "\n",
        "  def __init__(self,\n",
        "               input_dim : int,\n",
        "               n_phones : int):\n",
        "    super(PhoneClassifier, self).__init__()\n",
        "    self.linear = torch.nn.Linear(input_dim, n_phones)\n",
        "    \n",
        "\n",
        "  def forward(self, x):\n",
        "    return self.linear(x)"
      ],
      "execution_count": 25,
      "outputs": []
    },
    {
      "cell_type": "code",
      "metadata": {
        "id": "8OM2BCbN5Ojs",
        "colab_type": "code",
        "colab": {}
      },
      "source": [
        "phone_classifier = PhoneClassifier(HIDDEN_CONTEXT_MODEL, N_PHONES).to(device)"
      ],
      "execution_count": 26,
      "outputs": []
    },
    {
      "cell_type": "code",
      "metadata": {
        "id": "LoI6yx8LPc1V",
        "colab_type": "code",
        "colab": {}
      },
      "source": [
        "loss_criterion = torch.nn.CrossEntropyLoss()"
      ],
      "execution_count": 27,
      "outputs": []
    },
    {
      "cell_type": "code",
      "metadata": {
        "id": "R5rKMsg0PeF1",
        "colab_type": "code",
        "colab": {}
      },
      "source": [
        "parameters = list(phone_classifier.parameters()) + list(cpc_model.parameters())\n",
        "LEARNING_RATE = 2e-4\n",
        "optimizer = torch.optim.Adam(parameters, lr=LEARNING_RATE)"
      ],
      "execution_count": 28,
      "outputs": []
    },
    {
      "cell_type": "code",
      "metadata": {
        "id": "XKpZtLPfPeB1",
        "colab_type": "code",
        "colab": {}
      },
      "source": [
        "optimizer_frozen = torch.optim.Adam(list(phone_classifier.parameters()), lr=LEARNING_RATE)"
      ],
      "execution_count": 29,
      "outputs": []
    },
    {
      "cell_type": "code",
      "metadata": {
        "id": "rr0UKXR1Pcoz",
        "colab_type": "code",
        "colab": {}
      },
      "source": [
        "def train_one_epoch(cpc_model, \n",
        "                    phone_classifier, \n",
        "                    loss_criterion, \n",
        "                    data_loader, \n",
        "                    optimizer):\n",
        "\n",
        "  cpc_model.train()\n",
        "  loss_criterion.train()\n",
        "\n",
        "  avg_loss = 0\n",
        "  avg_accuracy = 0\n",
        "  n_items = 0\n",
        "  for step, full_data in enumerate(data_loader):\n",
        "    # Each batch is represented by a Tuple of vectors:\n",
        "    # sequence of size : N x 1 x T\n",
        "    # label of size : N x T\n",
        "    # \n",
        "    # With :\n",
        "    # - N number of sequence in the batch\n",
        "    # - T size of each sequence\n",
        "    sequence, label = full_data\n",
        "    \n",
        "    \n",
        "\n",
        "    bs = len(sequence)\n",
        "    seq_len = label.size(1)\n",
        "    optimizer.zero_grad()\n",
        "    context_out, enc_out, _ = cpc_model(sequence.to(device),label.to(device))\n",
        "\n",
        "    scores = phone_classifier(context_out)\n",
        "\n",
        "    scores = scores.permute(0,2,1)\n",
        "    loss = loss_criterion(scores,label.to(device))\n",
        "    loss.backward()\n",
        "    optimizer.step()\n",
        "    avg_loss+=loss.item()*bs\n",
        "    n_items+=bs\n",
        "    correct_labels = scores.argmax(1)\n",
        "    avg_accuracy += ((label==correct_labels.cpu()).float()).mean(1).sum().item()\n",
        "  avg_loss/=n_items\n",
        "  avg_accuracy/=n_items\n",
        "  return avg_loss, avg_accuracy"
      ],
      "execution_count": 30,
      "outputs": []
    },
    {
      "cell_type": "code",
      "metadata": {
        "id": "eKg7rjI_Pcca",
        "colab_type": "code",
        "colab": {}
      },
      "source": [
        "avg_loss, avg_accuracy = train_one_epoch(cpc_model, phone_classifier, loss_criterion, data_loader_train, optimizer_frozen)"
      ],
      "execution_count": 31,
      "outputs": []
    },
    {
      "cell_type": "code",
      "metadata": {
        "id": "xoA0E9-pPyaU",
        "colab_type": "code",
        "colab": {
          "base_uri": "https://localhost:8080/",
          "height": 35
        },
        "outputId": "48a27f29-b51d-4090-b344-ed6a0befdf45"
      },
      "source": [
        "avg_loss, avg_accuracy"
      ],
      "execution_count": 32,
      "outputs": [
        {
          "output_type": "execute_result",
          "data": {
            "text/plain": [
              "(4.133836558370879, 0.07010535037878787)"
            ]
          },
          "metadata": {
            "tags": []
          },
          "execution_count": 32
        }
      ]
    },
    {
      "cell_type": "code",
      "metadata": {
        "id": "YPp_i5VlPyMt",
        "colab_type": "code",
        "colab": {}
      },
      "source": [
        "def validation_step(cpc_model, \n",
        "                    phone_classifier, \n",
        "                    loss_criterion, \n",
        "                    data_loader):\n",
        "  \n",
        "  cpc_model.eval()\n",
        "  phone_classifier.eval()\n",
        "\n",
        "  avg_loss = 0\n",
        "  avg_accuracy = 0\n",
        "  n_items = 0\n",
        "  with torch.no_grad():\n",
        "    for step, full_data in enumerate(data_loader):\n",
        "      # Each batch is represented by a Tuple of vectors:\n",
        "      # sequence of size : N x 1 x T\n",
        "      # label of size : N x T\n",
        "      # \n",
        "      # With :\n",
        "      # - N number of sequence in the batch\n",
        "      # - T size of each sequence\n",
        "      sequence, label = full_data\n",
        "      bs = len(sequence)\n",
        "      seq_len = label.size(1)\n",
        "      context_out, enc_out, _ = cpc_model(sequence.to(device),label.to(device))\n",
        "      scores = phone_classifier(context_out)\n",
        "      scores = scores.permute(0,2,1)\n",
        "      loss = loss_criterion(scores,label.to(device))\n",
        "      avg_loss+=loss.item()*bs\n",
        "      n_items+=bs\n",
        "      correct_labels = scores.argmax(1)\n",
        "      avg_accuracy += ((label==correct_labels.cpu()).float()).mean(1).sum().item()\n",
        "  avg_loss/=n_items\n",
        "  avg_accuracy/=n_items\n",
        "  return avg_loss, avg_accuracy"
      ],
      "execution_count": 33,
      "outputs": []
    },
    {
      "cell_type": "code",
      "metadata": {
        "id": "tZlI76T4PyEo",
        "colab_type": "code",
        "colab": {}
      },
      "source": [
        "import matplotlib.pyplot as plt\n",
        "from google.colab import files\n",
        "\n",
        "def run(cpc_model, \n",
        "        phone_classifier, \n",
        "        loss_criterion, \n",
        "        data_loader_train, \n",
        "        data_loader_val, \n",
        "        optimizer,\n",
        "        n_epoch):\n",
        "  epoches = []\n",
        "  train_losses = []\n",
        "  train_accuracies = []\n",
        "  val_losses = []\n",
        "  val_accuracies = []\n",
        "  for epoch in range(n_epoch):\n",
        "\n",
        "    epoches.append(epoch)\n",
        "\n",
        "    print(f\"Running epoch {epoch + 1} / {n_epoch}\")\n",
        "    loss_train, acc_train = train_one_epoch(cpc_model, phone_classifier, loss_criterion, data_loader_train, optimizer)\n",
        "    print(\"-------------------\")\n",
        "    print(f\"Training dataset :\")\n",
        "    print(f\"Average loss : {loss_train}. Average accuracy {acc_train}\")\n",
        "    train_losses.append(loss_train)\n",
        "    train_accuracies.append(acc_train)\n",
        "\n",
        "    print(\"-------------------\")\n",
        "    print(\"Validation dataset\")\n",
        "    loss_val, acc_val = validation_step(cpc_model, phone_classifier, loss_criterion, data_loader_val)\n",
        "    print(f\"Average loss : {loss_val}. Average accuracy {acc_val}\")\n",
        "    print(\"-------------------\")\n",
        "    print()\n",
        "\n",
        "    val_losses.append(loss_val)\n",
        "    val_accuracies.append(acc_val)\n",
        "\n",
        "  plt.plot(epoches, train_losses, label = \"train loss\")\n",
        "  plt.plot(epoches, val_losses, label = \"val loss\")\n",
        "  plt.xlabel('epoches')\n",
        "  plt.ylabel('loss')\n",
        "  plt.title('train and validation loss')\n",
        "  plt.legend()\n",
        "  # Display a figure.\n",
        "  plt.savefig(\"loss1.png\")\n",
        "  files.download(\"loss1.png\") \n",
        "  plt.show()\n",
        "\n",
        "  plt.plot(epoches, train_accuracies, label = \"train accuracy\")\n",
        "  plt.plot(epoches, val_accuracies, label = \"vali accuracy\")\n",
        "  plt.xlabel('epoches')\n",
        "  plt.ylabel('accuracy')\n",
        "  plt.title('train and validation accuracy')\n",
        "  plt.legend()\n",
        "  plt.savefig(\"val1.png\")\n",
        "  files.download(\"val1.png\") \n",
        "  # Display a figure.\n",
        "  plt.show()\n",
        "\n"
      ],
      "execution_count": 34,
      "outputs": []
    },
    {
      "cell_type": "markdown",
      "metadata": {
        "id": "PrpvkLjUBwED",
        "colab_type": "text"
      },
      "source": [
        "## The Training and Evaluating Script"
      ]
    },
    {
      "cell_type": "code",
      "metadata": {
        "id": "BqSVU4vHPyAf",
        "colab_type": "code",
        "colab": {
          "base_uri": "https://localhost:8080/",
          "height": 1000
        },
        "outputId": "6bfe863d-b29f-484a-d9fa-3cbedc2491c6"
      },
      "source": [
        "run(cpc_model,phone_classifier,loss_criterion,data_loader_train,data_loader_val,optimizer_frozen,n_epoch=10)"
      ],
      "execution_count": 35,
      "outputs": [
        {
          "output_type": "stream",
          "text": [
            "Running epoch 1 / 10\n",
            "-------------------\n",
            "Training dataset :\n",
            "Average loss : 3.9382019115216806. Average accuracy 0.1054983428030303\n",
            "-------------------\n",
            "Validation dataset\n",
            "Average loss : 3.846985399723053. Average accuracy 0.119873046875\n",
            "-------------------\n",
            "\n",
            "Running epoch 2 / 10\n",
            "-------------------\n",
            "Training dataset :\n",
            "Average loss : 3.7741444472110635. Average accuracy 0.13301964962121213\n",
            "-------------------\n",
            "Validation dataset\n",
            "Average loss : 3.69957634806633. Average accuracy 0.145751953125\n",
            "-------------------\n",
            "\n",
            "Running epoch 3 / 10\n",
            "-------------------\n",
            "Training dataset :\n",
            "Average loss : 3.6394398140184805. Average accuracy 0.15589488636363635\n",
            "-------------------\n",
            "Validation dataset\n",
            "Average loss : 3.5785878598690033. Average accuracy 0.162841796875\n",
            "-------------------\n",
            "\n",
            "Running epoch 4 / 10\n",
            "-------------------\n",
            "Training dataset :\n",
            "Average loss : 3.5329696120637837. Average accuracy 0.16332267992424243\n",
            "-------------------\n",
            "Validation dataset\n",
            "Average loss : 3.4796801805496216. Average accuracy 0.16943359375\n",
            "-------------------\n",
            "\n",
            "Running epoch 5 / 10\n",
            "-------------------\n",
            "Training dataset :\n",
            "Average loss : 3.4407107974543716. Average accuracy 0.17199337121212122\n",
            "-------------------\n",
            "Validation dataset\n",
            "Average loss : 3.3975033164024353. Average accuracy 0.1744384765625\n",
            "-------------------\n",
            "\n",
            "Running epoch 6 / 10\n",
            "-------------------\n",
            "Training dataset :\n",
            "Average loss : 3.3651765765565815. Average accuracy 0.17717211174242425\n",
            "-------------------\n",
            "Validation dataset\n",
            "Average loss : 3.3298254013061523. Average accuracy 0.18408203125\n",
            "-------------------\n",
            "\n",
            "Running epoch 7 / 10\n",
            "-------------------\n",
            "Training dataset :\n",
            "Average loss : 3.3034892949191006. Average accuracy 0.1835049715909091\n",
            "-------------------\n",
            "Validation dataset\n",
            "Average loss : 3.2736769318580627. Average accuracy 0.19091796875\n",
            "-------------------\n",
            "\n",
            "Running epoch 8 / 10\n",
            "-------------------\n",
            "Training dataset :\n",
            "Average loss : 3.2533017866539233. Average accuracy 0.19202769886363635\n",
            "-------------------\n",
            "Validation dataset\n",
            "Average loss : 3.226604402065277. Average accuracy 0.194091796875\n",
            "-------------------\n",
            "\n",
            "Running epoch 9 / 10\n",
            "-------------------\n",
            "Training dataset :\n",
            "Average loss : 3.21110581629204. Average accuracy 0.19714725378787878\n",
            "-------------------\n",
            "Validation dataset\n",
            "Average loss : 3.187675654888153. Average accuracy 0.20068359375\n",
            "-------------------\n",
            "\n",
            "Running epoch 10 / 10\n",
            "-------------------\n",
            "Training dataset :\n",
            "Average loss : 3.172546148300171. Average accuracy 0.2001361268939394\n",
            "-------------------\n",
            "Validation dataset\n",
            "Average loss : 3.155732214450836. Average accuracy 0.2037353515625\n",
            "-------------------\n",
            "\n"
          ],
          "name": "stdout"
        },
        {
          "output_type": "display_data",
          "data": {
            "application/javascript": [
              "\n",
              "    async function download(id, filename, size) {\n",
              "      if (!google.colab.kernel.accessAllowed) {\n",
              "        return;\n",
              "      }\n",
              "      const div = document.createElement('div');\n",
              "      const label = document.createElement('label');\n",
              "      label.textContent = `Downloading \"${filename}\": `;\n",
              "      div.appendChild(label);\n",
              "      const progress = document.createElement('progress');\n",
              "      progress.max = size;\n",
              "      div.appendChild(progress);\n",
              "      document.body.appendChild(div);\n",
              "\n",
              "      const buffers = [];\n",
              "      let downloaded = 0;\n",
              "\n",
              "      const channel = await google.colab.kernel.comms.open(id);\n",
              "      // Send a message to notify the kernel that we're ready.\n",
              "      channel.send({})\n",
              "\n",
              "      for await (const message of channel.messages) {\n",
              "        // Send a message to notify the kernel that we're ready.\n",
              "        channel.send({})\n",
              "        if (message.buffers) {\n",
              "          for (const buffer of message.buffers) {\n",
              "            buffers.push(buffer);\n",
              "            downloaded += buffer.byteLength;\n",
              "            progress.value = downloaded;\n",
              "          }\n",
              "        }\n",
              "      }\n",
              "      const blob = new Blob(buffers, {type: 'application/binary'});\n",
              "      const a = document.createElement('a');\n",
              "      a.href = window.URL.createObjectURL(blob);\n",
              "      a.download = filename;\n",
              "      div.appendChild(a);\n",
              "      a.click();\n",
              "      div.remove();\n",
              "    }\n",
              "  "
            ],
            "text/plain": [
              "<IPython.core.display.Javascript object>"
            ]
          },
          "metadata": {
            "tags": []
          }
        },
        {
          "output_type": "display_data",
          "data": {
            "application/javascript": [
              "download(\"download_2faafb13-38c5-4bd0-a3fb-9f70e351274a\", \"loss1.png\", 18608)"
            ],
            "text/plain": [
              "<IPython.core.display.Javascript object>"
            ]
          },
          "metadata": {
            "tags": []
          }
        },
        {
          "output_type": "display_data",
          "data": {
            "image/png": "[encoded data removed]",
            "text/plain": [
              "<Figure size 432x288 with 1 Axes>"
            ]
          },
          "metadata": {
            "tags": [],
            "needs_background": "light"
          }
        },
        {
          "output_type": "display_data",
          "data": {
            "application/javascript": [
              "\n",
              "    async function download(id, filename, size) {\n",
              "      if (!google.colab.kernel.accessAllowed) {\n",
              "        return;\n",
              "      }\n",
              "      const div = document.createElement('div');\n",
              "      const label = document.createElement('label');\n",
              "      label.textContent = `Downloading \"${filename}\": `;\n",
              "      div.appendChild(label);\n",
              "      const progress = document.createElement('progress');\n",
              "      progress.max = size;\n",
              "      div.appendChild(progress);\n",
              "      document.body.appendChild(div);\n",
              "\n",
              "      const buffers = [];\n",
              "      let downloaded = 0;\n",
              "\n",
              "      const channel = await google.colab.kernel.comms.open(id);\n",
              "      // Send a message to notify the kernel that we're ready.\n",
              "      channel.send({})\n",
              "\n",
              "      for await (const message of channel.messages) {\n",
              "        // Send a message to notify the kernel that we're ready.\n",
              "        channel.send({})\n",
              "        if (message.buffers) {\n",
              "          for (const buffer of message.buffers) {\n",
              "            buffers.push(buffer);\n",
              "            downloaded += buffer.byteLength;\n",
              "            progress.value = downloaded;\n",
              "          }\n",
              "        }\n",
              "      }\n",
              "      const blob = new Blob(buffers, {type: 'application/binary'});\n",
              "      const a = document.createElement('a');\n",
              "      a.href = window.URL.createObjectURL(blob);\n",
              "      a.download = filename;\n",
              "      div.appendChild(a);\n",
              "      a.click();\n",
              "      div.remove();\n",
              "    }\n",
              "  "
            ],
            "text/plain": [
              "<IPython.core.display.Javascript object>"
            ]
          },
          "metadata": {
            "tags": []
          }
        },
        {
          "output_type": "display_data",
          "data": {
            "application/javascript": [
              "download(\"download_a72f2373-aa2f-43c7-a786-38436d82a2e0\", \"val1.png\", 18981)"
            ],
            "text/plain": [
              "<IPython.core.display.Javascript object>"
            ]
          },
          "metadata": {
            "tags": []
          }
        },
        {
          "output_type": "display_data",
          "data": {
            "image/png": "[encoded data removed]",
            "text/plain": [
              "<Figure size 432x288 with 1 Axes>"
            ]
          },
          "metadata": {
            "tags": [],
            "needs_background": "light"
          }
        }
      ]
    },
    {
      "cell_type": "code",
      "metadata": {
        "id": "u5GYKS6GPx86",
        "colab_type": "code",
        "colab": {}
      },
      "source": [
        "loss_ctc = torch.nn.CTCLoss(zero_infinity=True)"
      ],
      "execution_count": 36,
      "outputs": []
    },
    {
      "cell_type": "code",
      "metadata": {
        "id": "tkoPonwTQRLg",
        "colab_type": "code",
        "colab": {
          "base_uri": "https://localhost:8080/",
          "height": 315
        },
        "outputId": "bac23891-2d73-4c7b-fbba-518a4d793a4c"
      },
      "source": [
        "%cd CPC_audio/\n",
        "from cpc.eval.common_voices_eval import SingleSequenceDataset, parseSeqLabels, findAllSeqs\n",
        "path_train_data_per = datapath+'train'\n",
        "path_val_data_per = datapath+'val'\n",
        "path_phone_data_per = datapath2+'chars2.txt'\n",
        "BATCH_SIZE=8\n",
        "\n",
        "phone_labels, N_PHONES = parseSeqLabels(path_phone_data_per)\n",
        "data_train_per, _ = findAllSeqs(path_train_data_per, extension='.wav')\n",
        "dataset_train_non_aligned = SingleSequenceDataset(path_train_data_per, data_train_per, phone_labels)\n",
        "data_loader_train = torch.utils.data.DataLoader(dataset_train_non_aligned, batch_size=BATCH_SIZE,\n",
        "                                                shuffle=True)\n",
        "\n",
        "data_val_per, _ = findAllSeqs(path_val_data_per, extension='.wav')\n",
        "dataset_val_non_aligned = SingleSequenceDataset(path_val_data_per, data_val_per, phone_labels)\n",
        "data_loader_val = torch.utils.data.DataLoader(dataset_val_non_aligned, batch_size=BATCH_SIZE,\n",
        "                                              shuffle=True)"
      ],
      "execution_count": 37,
      "outputs": [
        {
          "output_type": "stream",
          "text": [
            "1it [00:00, 76.29it/s]"
          ],
          "name": "stderr"
        },
        {
          "output_type": "stream",
          "text": [
            "[Errno 2] No such file or directory: 'CPC_audio/'\n",
            "/content/CPC_audio\n",
            "Saved cache file at ../drive/My Drive/Speech Recognition project/data/records/train/_seqs_cache.txt\n"
          ],
          "name": "stdout"
        },
        {
          "output_type": "stream",
          "text": [
            "\n",
            "1it [00:00, 152.73it/s]"
          ],
          "name": "stderr"
        },
        {
          "output_type": "stream",
          "text": [
            "Loaded 996 sequences in 3.49 seconds\n",
            "maxSizeSeq : 598587\n",
            "maxSizePhone : 329\n",
            "minSizePhone : 6\n",
            "Total size dataset 0.9640946180555555 hours\n",
            "Saved cache file at ../drive/My Drive/Speech Recognition project/data/records/val/_seqs_cache.txt\n"
          ],
          "name": "stdout"
        },
        {
          "output_type": "stream",
          "text": [
            "\n"
          ],
          "name": "stderr"
        },
        {
          "output_type": "stream",
          "text": [
            "Loaded 251 sequences in 1.97 seconds\n",
            "maxSizeSeq : 393129\n",
            "maxSizePhone : 210\n",
            "minSizePhone : 7\n",
            "Total size dataset 0.2305246701388889 hours\n"
          ],
          "name": "stdout"
        }
      ]
    },
    {
      "cell_type": "code",
      "metadata": {
        "id": "mDdJdZP5QRIo",
        "colab_type": "code",
        "colab": {
          "base_uri": "https://localhost:8080/",
          "height": 52
        },
        "outputId": "5db57818-4d9f-4e9d-c6fc-65c8ab90b19a"
      },
      "source": [
        "from cpc.feature_loader import loadModel\n",
        "\n",
        "checkpoint_path = '../checkpoint_data/checkpoint_30.pt'\n",
        "cpc_model, HIDDEN_CONTEXT_MODEL, HIDDEN_ENCODER_MODEL = loadModel([checkpoint_path])\n",
        "cpc_model = cpc_model.cuda()\n",
        "phone_classifier = PhoneClassifier(HIDDEN_CONTEXT_MODEL, N_PHONES).to(device)"
      ],
      "execution_count": 38,
      "outputs": [
        {
          "output_type": "stream",
          "text": [
            "Loading checkpoint ../checkpoint_data/checkpoint_30.pt\n",
            "Loading the state dict at ../checkpoint_data/checkpoint_30.pt\n"
          ],
          "name": "stdout"
        }
      ]
    },
    {
      "cell_type": "code",
      "metadata": {
        "id": "cynZKAlmQRGh",
        "colab_type": "code",
        "colab": {}
      },
      "source": [
        "parameters = list(phone_classifier.parameters()) + list(cpc_model.parameters())\n",
        "LEARNING_RATE = 2e-4\n",
        "optimizer = torch.optim.Adam(parameters, lr=LEARNING_RATE)\n",
        "\n",
        "optimizer_frozen = torch.optim.Adam(list(phone_classifier.parameters()), lr=LEARNING_RATE)"
      ],
      "execution_count": 39,
      "outputs": []
    },
    {
      "cell_type": "code",
      "metadata": {
        "id": "DTQKKvIBRu71",
        "colab_type": "code",
        "colab": {}
      },
      "source": [
        "import torch.nn.functional as F\n",
        "\n",
        "def train_one_epoch_ctc(cpc_model, \n",
        "                        phone_classifier, \n",
        "                        loss_criterion, \n",
        "                        data_loader, \n",
        "                        optimizer):\n",
        "  \n",
        "  cpc_model.train()\n",
        "  loss_criterion.train()\n",
        "\n",
        "  avg_loss = 0\n",
        "  avg_accuracy = 0\n",
        "  n_items = 0\n",
        "  for step, full_data in enumerate(data_loader):\n",
        "\n",
        "    x, x_len, y, y_len = full_data\n",
        "\n",
        "    x_batch_len = x.shape[-1]\n",
        "    x, y = x.to(device), y.to(device)\n",
        "\n",
        "    bs=x.size(0)\n",
        "    optimizer.zero_grad()\n",
        "    context_out, enc_out, _ = cpc_model(x.to(device),y.to(device))\n",
        "  \n",
        "    scores = phone_classifier(context_out)\n",
        "    scores = scores.permute(1,0,2)\n",
        "    scores = F.log_softmax(scores,2)\n",
        "    yhat_len = torch.tensor([int(scores.shape[0]*x_len[i]/x_batch_len) for i in range(scores.shape[1])]) # this is an approximation, should be good enough\n",
        "\n",
        "    loss = loss_criterion(scores.float(),y.float().to(device),yhat_len,y_len)\n",
        "    loss.backward()\n",
        "    optimizer.step()\n",
        "    avg_loss+=loss.item()*bs\n",
        "    n_items+=bs\n",
        "  avg_loss/=n_items\n",
        "\n",
        "  return avg_loss\n",
        "\n",
        "def validation_step(cpc_model, \n",
        "                    phone_classifier, \n",
        "                    loss_criterion, \n",
        "                    data_loader):\n",
        "\n",
        "  cpc_model.eval()\n",
        "  phone_classifier.eval()\n",
        "  avg_loss = 0\n",
        "  avg_accuracy = 0\n",
        "  n_items = 0\n",
        "  with torch.no_grad():\n",
        "    for step, full_data in enumerate(data_loader):\n",
        "\n",
        "      x, x_len, y, y_len = full_data\n",
        "\n",
        "      x_batch_len = x.shape[-1]\n",
        "      x, y = x.to(device), y.to(device)\n",
        "\n",
        "      bs=x.size(0)\n",
        "      context_out, enc_out, _ = cpc_model(x.to(device),y.to(device))\n",
        "    \n",
        "      scores = phone_classifier(context_out)\n",
        "      scores = scores.permute(1,0,2)\n",
        "      scores = F.log_softmax(scores,2)\n",
        "      yhat_len = torch.tensor([int(scores.shape[0]*x_len[i]/x_batch_len) for i in range(scores.shape[1])]) # this is an approximation, should be good enough\n",
        "\n",
        "      loss = loss_criterion(scores,y.to(device),yhat_len,y_len)\n",
        "      avg_loss+=loss.item()*bs\n",
        "      n_items+=bs\n",
        "  avg_loss/=n_items\n",
        "  #print(loss)\n",
        "  return avg_loss\n",
        "\n",
        "def run_ctc(cpc_model, \n",
        "            phone_classifier, \n",
        "            loss_criterion, \n",
        "            data_loader_train, \n",
        "            data_loader_val, \n",
        "            optimizer,\n",
        "            n_epoch):\n",
        "  epoches = []\n",
        "  train_losses = []\n",
        "  val_losses = []\n",
        "\n",
        "  for epoch in range(n_epoch):\n",
        "\n",
        "    print(f\"Running epoch {epoch + 1} / {n_epoch}\")\n",
        "    loss_train = train_one_epoch_ctc(cpc_model, phone_classifier, loss_criterion, data_loader_train, optimizer)\n",
        "    print(\"-------------------\")\n",
        "    print(f\"Training dataset :\")\n",
        "    print(f\"Average loss : {loss_train}.\")\n",
        "\n",
        "    print(\"-------------------\")\n",
        "    print(\"Validation dataset\")\n",
        "    loss_val = validation_step(cpc_model, phone_classifier, loss_criterion, data_loader_val)\n",
        "    print(f\"Average loss : {loss_val}\")\n",
        "    print(\"-------------------\")\n",
        "    print()\n",
        "    epoches.append(epoch)\n",
        "    train_losses.append(loss_train)\n",
        "    val_losses.append(loss_val)\n",
        "\n",
        "  plt.plot(epoches, train_losses, label = \"ctc_train loss\")\n",
        "  plt.plot(epoches, val_losses, label = \"ctc_val loss\")\n",
        "  plt.xlabel('epoches')\n",
        "  plt.ylabel('loss')\n",
        "  plt.title('train and validation ctc loss')\n",
        "  plt.legend()\n",
        "  # Display and save a figure.\n",
        "  plt.savefig(\"ctc_loss.png\")\n",
        "  files.download(\"ctc_loss.png\") \n",
        "  plt.show()\n",
        "\n",
        "    "
      ],
      "execution_count": 40,
      "outputs": []
    },
    {
      "cell_type": "code",
      "metadata": {
        "id": "TKyJoD9FRu3m",
        "colab_type": "code",
        "colab": {
          "base_uri": "https://localhost:8080/",
          "height": 1000
        },
        "outputId": "fb76e7c2-9ed9-42ce-a58d-7edd9d202d37"
      },
      "source": [
        "run_ctc(cpc_model,phone_classifier,loss_ctc,data_loader_train,data_loader_val,optimizer_frozen,n_epoch=10)"
      ],
      "execution_count": 41,
      "outputs": [
        {
          "output_type": "stream",
          "text": [
            "Running epoch 1 / 10\n"
          ],
          "name": "stdout"
        },
        {
          "output_type": "stream",
          "text": [
            "/pytorch/aten/src/ATen/native/BinaryOps.cpp:81: UserWarning: Integer division of tensors using div or / is deprecated, and in a future release div will perform true division as in Python 3. Use true_divide or floor_divide (// in Python) instead.\n"
          ],
          "name": "stderr"
        },
        {
          "output_type": "stream",
          "text": [
            "-------------------\n",
            "Training dataset :\n",
            "Average loss : 35.231724966231305.\n",
            "-------------------\n",
            "Validation dataset\n",
            "Average loss : 30.228105255126952\n",
            "-------------------\n",
            "\n",
            "Running epoch 2 / 10\n",
            "-------------------\n",
            "Training dataset :\n",
            "Average loss : 24.906109996776486.\n",
            "-------------------\n",
            "Validation dataset\n",
            "Average loss : 19.368375427246093\n",
            "-------------------\n",
            "\n",
            "Running epoch 3 / 10\n",
            "-------------------\n",
            "Training dataset :\n",
            "Average loss : 15.091983853632481.\n",
            "-------------------\n",
            "Validation dataset\n",
            "Average loss : 11.665102264404297\n",
            "-------------------\n",
            "\n",
            "Running epoch 4 / 10\n",
            "-------------------\n",
            "Training dataset :\n",
            "Average loss : 9.78166901142753.\n",
            "-------------------\n",
            "Validation dataset\n",
            "Average loss : 8.260225532531738\n",
            "-------------------\n",
            "\n",
            "Running epoch 5 / 10\n",
            "-------------------\n",
            "Training dataset :\n",
            "Average loss : 7.422414722155087.\n",
            "-------------------\n",
            "Validation dataset\n",
            "Average loss : 6.689225891113281\n",
            "-------------------\n",
            "\n",
            "Running epoch 6 / 10\n",
            "-------------------\n",
            "Training dataset :\n",
            "Average loss : 6.26673885805523.\n",
            "-------------------\n",
            "Validation dataset\n",
            "Average loss : 5.862711639404297\n",
            "-------------------\n",
            "\n",
            "Running epoch 7 / 10\n",
            "-------------------\n",
            "Training dataset :\n",
            "Average loss : 5.619028062676665.\n",
            "-------------------\n",
            "Validation dataset\n",
            "Average loss : 5.365477275848389\n",
            "-------------------\n",
            "\n",
            "Running epoch 8 / 10\n",
            "-------------------\n",
            "Training dataset :\n",
            "Average loss : 5.2112698703555.\n",
            "-------------------\n",
            "Validation dataset\n",
            "Average loss : 5.037529853820801\n",
            "-------------------\n",
            "\n",
            "Running epoch 9 / 10\n",
            "-------------------\n",
            "Training dataset :\n",
            "Average loss : 4.930485922367729.\n",
            "-------------------\n",
            "Validation dataset\n",
            "Average loss : 4.80003210067749\n",
            "-------------------\n",
            "\n",
            "Running epoch 10 / 10\n",
            "-------------------\n",
            "Training dataset :\n",
            "Average loss : 4.723050473083803.\n",
            "-------------------\n",
            "Validation dataset\n",
            "Average loss : 4.620821052551269\n",
            "-------------------\n",
            "\n"
          ],
          "name": "stdout"
        },
        {
          "output_type": "display_data",
          "data": {
            "application/javascript": [
              "\n",
              "    async function download(id, filename, size) {\n",
              "      if (!google.colab.kernel.accessAllowed) {\n",
              "        return;\n",
              "      }\n",
              "      const div = document.createElement('div');\n",
              "      const label = document.createElement('label');\n",
              "      label.textContent = `Downloading \"${filename}\": `;\n",
              "      div.appendChild(label);\n",
              "      const progress = document.createElement('progress');\n",
              "      progress.max = size;\n",
              "      div.appendChild(progress);\n",
              "      document.body.appendChild(div);\n",
              "\n",
              "      const buffers = [];\n",
              "      let downloaded = 0;\n",
              "\n",
              "      const channel = await google.colab.kernel.comms.open(id);\n",
              "      // Send a message to notify the kernel that we're ready.\n",
              "      channel.send({})\n",
              "\n",
              "      for await (const message of channel.messages) {\n",
              "        // Send a message to notify the kernel that we're ready.\n",
              "        channel.send({})\n",
              "        if (message.buffers) {\n",
              "          for (const buffer of message.buffers) {\n",
              "            buffers.push(buffer);\n",
              "            downloaded += buffer.byteLength;\n",
              "            progress.value = downloaded;\n",
              "          }\n",
              "        }\n",
              "      }\n",
              "      const blob = new Blob(buffers, {type: 'application/binary'});\n",
              "      const a = document.createElement('a');\n",
              "      a.href = window.URL.createObjectURL(blob);\n",
              "      a.download = filename;\n",
              "      div.appendChild(a);\n",
              "      a.click();\n",
              "      div.remove();\n",
              "    }\n",
              "  "
            ],
            "text/plain": [
              "<IPython.core.display.Javascript object>"
            ]
          },
          "metadata": {
            "tags": []
          }
        },
        {
          "output_type": "display_data",
          "data": {
            "application/javascript": [
              "download(\"download_6af01b02-7509-4c68-8e5a-67731d5adc43\", \"ctc_loss.png\", 17010)"
            ],
            "text/plain": [
              "<IPython.core.display.Javascript object>"
            ]
          },
          "metadata": {
            "tags": []
          }
        },
        {
          "output_type": "display_data",
          "data": {
            "image/png": "[encoded data removed]",
            "text/plain": [
              "<Figure size 432x288 with 1 Axes>"
            ]
          },
          "metadata": {
            "tags": [],
            "needs_background": "light"
          }
        }
      ]
    },
    {
      "cell_type": "code",
      "metadata": {
        "id": "jIkNXvS7Ru0Q",
        "colab_type": "code",
        "colab": {}
      },
      "source": [
        "import numpy as np\n",
        "\n",
        "def get_PER_sequence(ref_seq, target_seq):\n",
        "\n",
        "  # re = g.split()\n",
        "  # h = h.split()\n",
        "  n = len(ref_seq)\n",
        "  m = len(target_seq)\n",
        "\n",
        "  D = np.zeros((n+1,m+1))\n",
        "  for i in range(1,n+1):\n",
        "    D[i,0] = D[i-1,0]+1\n",
        "  for j in range(1,m+1):\n",
        "    D[0,j] = D[0,j-1]+1\n",
        "  \n",
        "  ### TODO compute the alignment\n",
        "\n",
        "  for i in range(1,n+1):\n",
        "    for j in range(1,m+1):\n",
        "      D[i,j] = min(\n",
        "          D[i-1,j]+1,\n",
        "          D[i-1,j-1]+1,\n",
        "          D[i,j-1]+1,\n",
        "          D[i-1,j-1]+ 0 if ref_seq[i-1]==target_seq[j-1] else float(\"inf\")\n",
        "      )\n",
        "  return D[n,m]/len(ref_seq)\n",
        "  \n",
        "\n",
        "  #return PER"
      ],
      "execution_count": 42,
      "outputs": []
    },
    {
      "cell_type": "code",
      "metadata": {
        "id": "PKGHaQ-PRusH",
        "colab_type": "code",
        "colab": {
          "base_uri": "https://localhost:8080/",
          "height": 35
        },
        "outputId": "8b8a6eb5-aed0-441d-eaed-685ff7b12166"
      },
      "source": [
        "ref_seq = [0, 1, 1, 2, 0, 2, 2]\n",
        "pred_seq = [1, 1, 2, 2, 0, 0]\n",
        "\n",
        "expected_PER = 4. / 7.\n",
        "print(get_PER_sequence(ref_seq, pred_seq) == expected_PER)"
      ],
      "execution_count": 43,
      "outputs": [
        {
          "output_type": "stream",
          "text": [
            "True\n"
          ],
          "name": "stdout"
        }
      ]
    },
    {
      "cell_type": "code",
      "metadata": {
        "id": "f2BZWX1XRupc",
        "colab_type": "code",
        "colab": {}
      },
      "source": [
        "import progressbar\n",
        "from multiprocessing import Pool\n",
        "\n",
        "def cut_data(seq, sizeSeq):\n",
        "    maxSeq = sizeSeq.max()\n",
        "    return seq[:, :maxSeq]\n",
        "\n",
        "\n",
        "def prepare_data(data):\n",
        "    seq, sizeSeq, phone, sizePhone = data\n",
        "    seq = seq.cuda()\n",
        "    phone = phone.cuda()\n",
        "    sizeSeq = sizeSeq.cuda().view(-1)\n",
        "    sizePhone = sizePhone.cuda().view(-1)\n",
        "\n",
        "    seq = cut_data(seq.permute(0, 2, 1), sizeSeq).permute(0, 2, 1)\n",
        "    return seq, sizeSeq, phone, sizePhone\n",
        "\n",
        "\n",
        "def get_per(test_dataloader,\n",
        "            cpc_model,\n",
        "            phone_classifier):\n",
        "\n",
        "  downsampling_factor = 160\n",
        "  cpc_model.eval()\n",
        "  phone_classifier.eval()\n",
        "\n",
        "  avgPER = 0\n",
        "  nItems = 0 \n",
        "  \n",
        "  per = []\n",
        "  Item = []\n",
        "\n",
        "  print(\"Starting the PER computation through beam search\")\n",
        "  bar = progressbar.ProgressBar(maxval=len(test_dataloader))\n",
        "  bar.start()\n",
        "\n",
        "  for index, data in enumerate(test_dataloader):\n",
        "\n",
        "    bar.update(index)\n",
        "\n",
        "    with torch.no_grad():\n",
        "      \n",
        "        seq, sizeSeq, phone, sizePhone = prepare_data(data)\n",
        "        c_feature, _, _ = cpc_model(seq.to(device),phone.to(device))\n",
        "        sizeSeq = sizeSeq / downsampling_factor\n",
        "        predictions = torch.nn.functional.softmax(\n",
        "        phone_classifier(c_feature), dim=2).cpu()\n",
        "        phone = phone.cpu()\n",
        "        sizeSeq = sizeSeq.cpu()\n",
        "        sizePhone = sizePhone.cpu()\n",
        "\n",
        "        bs = c_feature.size(0)\n",
        "        data_per = [(predictions[b].argmax(1),  phone[b]) for b in range(bs)]\n",
        "        # data_per = [(predictions[b], sizeSeq[b], phone[b], sizePhone[b],\n",
        "        #               \"criterion.module.BLANK_LABEL\") for b in range(bs)]\n",
        "\n",
        "        with Pool(bs) as p:\n",
        "            poolData = p.starmap(get_PER_sequence, data_per)\n",
        "        avgPER += sum([x for x in poolData])\n",
        "        nItems += len(poolData)\n",
        "        per.append(sum([x for x in poolData]))\n",
        "        Item.append(index)\n",
        "\n",
        "  bar.finish()\n",
        "\n",
        "  avgPER /= nItems\n",
        "\n",
        "  print(f\"Average CER {avgPER}\")\n",
        "\n",
        "  plt.plot(Item, per, label = \"Per by item\")\n",
        "  plt.xlabel('Items')\n",
        "  plt.ylabel('PER')\n",
        "  plt.title('trends of the PER')\n",
        "  plt.legend()\n",
        "  # Display and save a figure.\n",
        "  plt.savefig(\"Per.png\")\n",
        "  files.download(\"Per.png\") \n",
        "  plt.show()\n",
        "  return avgPER"
      ],
      "execution_count": 53,
      "outputs": []
    },
    {
      "cell_type": "code",
      "metadata": {
        "id": "5zfzAG24RunS",
        "colab_type": "code",
        "colab": {
          "base_uri": "https://localhost:8080/",
          "height": 382
        },
        "outputId": "6f2de21f-beba-44c3-d85d-2a824dc907e1"
      },
      "source": [
        "get_per(data_loader_val,cpc_model,phone_classifier)"
      ],
      "execution_count": 45,
      "outputs": [
        {
          "output_type": "stream",
          "text": [
            "\r                                                                               \r\rN/A% (0 of 32) |                         | Elapsed Time: 0:00:00 ETA:  --:--:--"
          ],
          "name": "stderr"
        },
        {
          "output_type": "stream",
          "text": [
            "Starting the PER computation through beam search\n"
          ],
          "name": "stdout"
        },
        {
          "output_type": "stream",
          "text": [
            "100% (32 of 32) |########################| Elapsed Time: 0:07:06 Time:  0:07:06\n"
          ],
          "name": "stderr"
        },
        {
          "output_type": "stream",
          "text": [
            "Average PER 0.7491843367846066\n"
          ],
          "name": "stdout"
        },
        {
          "output_type": "display_data",
          "data": {
            "application/javascript": [
              "\n",
              "    async function download(id, filename, size) {\n",
              "      if (!google.colab.kernel.accessAllowed) {\n",
              "        return;\n",
              "      }\n",
              "      const div = document.createElement('div');\n",
              "      const label = document.createElement('label');\n",
              "      label.textContent = `Downloading \"${filename}\": `;\n",
              "      div.appendChild(label);\n",
              "      const progress = document.createElement('progress');\n",
              "      progress.max = size;\n",
              "      div.appendChild(progress);\n",
              "      document.body.appendChild(div);\n",
              "\n",
              "      const buffers = [];\n",
              "      let downloaded = 0;\n",
              "\n",
              "      const channel = await google.colab.kernel.comms.open(id);\n",
              "      // Send a message to notify the kernel that we're ready.\n",
              "      channel.send({})\n",
              "\n",
              "      for await (const message of channel.messages) {\n",
              "        // Send a message to notify the kernel that we're ready.\n",
              "        channel.send({})\n",
              "        if (message.buffers) {\n",
              "          for (const buffer of message.buffers) {\n",
              "            buffers.push(buffer);\n",
              "            downloaded += buffer.byteLength;\n",
              "            progress.value = downloaded;\n",
              "          }\n",
              "        }\n",
              "      }\n",
              "      const blob = new Blob(buffers, {type: 'application/binary'});\n",
              "      const a = document.createElement('a');\n",
              "      a.href = window.URL.createObjectURL(blob);\n",
              "      a.download = filename;\n",
              "      div.appendChild(a);\n",
              "      a.click();\n",
              "      div.remove();\n",
              "    }\n",
              "  "
            ],
            "text/plain": [
              "<IPython.core.display.Javascript object>"
            ]
          },
          "metadata": {
            "tags": []
          }
        },
        {
          "output_type": "display_data",
          "data": {
            "application/javascript": [
              "download(\"download_65525d1d-5d21-46ca-8e71-19f9df7eadac\", \"Per.png\", 18588)"
            ],
            "text/plain": [
              "<IPython.core.display.Javascript object>"
            ]
          },
          "metadata": {
            "tags": []
          }
        },
        {
          "output_type": "display_data",
          "data": {
            "image/png": "[encoded data removed]",
            "text/plain": [
              "<Figure size 432x288 with 1 Axes>"
            ]
          },
          "metadata": {
            "tags": [],
            "needs_background": "light"
          }
        },
        {
          "output_type": "execute_result",
          "data": {
            "text/plain": [
              "0.7491843367846066"
            ]
          },
          "metadata": {
            "tags": []
          },
          "execution_count": 45
        }
      ]
    },
    {
      "cell_type": "code",
      "metadata": {
        "id": "Ub7GtPerRubK",
        "colab_type": "code",
        "colab": {
          "base_uri": "https://localhost:8080/",
          "height": 297
        },
        "outputId": "ecac29ec-d998-4f3c-952c-1ec37d19b595"
      },
      "source": [
        "# Load a dataset labelled with the letters of each sequence.\n",
        "%cd /content/CPC_audio\n",
        "from cpc.eval.common_voices_eval import SingleSequenceDataset, parseSeqLabels, findAllSeqs\n",
        "path_train_data_cer = datapath+'train'\n",
        "path_val_data_cer = datapath+'val'\n",
        "path_letter_data_cer = datapath2+'chars2.txt'\n",
        "BATCH_SIZE=8\n",
        "\n",
        "letters_labels, N_LETTERS = parseSeqLabels(path_letter_data_cer)\n",
        "data_train_cer, _ = findAllSeqs(path_train_data_cer, extension='.wav')\n",
        "dataset_train_non_aligned = SingleSequenceDataset(path_train_data_cer, data_train_cer, letters_labels)\n",
        "\n",
        "\n",
        "data_val_cer, _ = findAllSeqs(path_val_data_cer, extension='.wav')\n",
        "dataset_val_non_aligned = SingleSequenceDataset(path_val_data_cer, data_val_cer, letters_labels)\n",
        "\n",
        "\n",
        "# The data loader will generate a tuple of tensors data, labels for each batch\n",
        "# data : size N x T1 x 1 : the audio sequence\n",
        "# label : size N x T2 the sequence of letters corresponding to the audio data\n",
        "# IMPORTANT NOTE: just like the PER the CER is computed with non-aligned phone data.\n",
        "data_loader_train_letters = torch.utils.data.DataLoader(dataset_train_non_aligned, batch_size=BATCH_SIZE,\n",
        "                                                shuffle=True)\n",
        "data_loader_val_letters = torch.utils.data.DataLoader(dataset_val_non_aligned, batch_size=BATCH_SIZE,\n",
        "                                              shuffle=True)"
      ],
      "execution_count": 47,
      "outputs": [
        {
          "output_type": "stream",
          "text": [
            "1it [00:00, 77.80it/s]"
          ],
          "name": "stderr"
        },
        {
          "output_type": "stream",
          "text": [
            "/content/CPC_audio\n",
            "Saved cache file at ../drive/My Drive/Speech Recognition project/data/records/train/_seqs_cache.txt\n"
          ],
          "name": "stdout"
        },
        {
          "output_type": "stream",
          "text": [
            "\n",
            "1it [00:00, 155.45it/s]"
          ],
          "name": "stderr"
        },
        {
          "output_type": "stream",
          "text": [
            "Loaded 996 sequences in 3.71 seconds\n",
            "maxSizeSeq : 598587\n",
            "maxSizePhone : 329\n",
            "minSizePhone : 6\n",
            "Total size dataset 0.9640946180555555 hours\n",
            "Saved cache file at ../drive/My Drive/Speech Recognition project/data/records/val/_seqs_cache.txt\n"
          ],
          "name": "stdout"
        },
        {
          "output_type": "stream",
          "text": [
            "\n"
          ],
          "name": "stderr"
        },
        {
          "output_type": "stream",
          "text": [
            "Loaded 251 sequences in 2.23 seconds\n",
            "maxSizeSeq : 393129\n",
            "maxSizePhone : 210\n",
            "minSizePhone : 7\n",
            "Total size dataset 0.2305246701388889 hours\n"
          ],
          "name": "stdout"
        }
      ]
    },
    {
      "cell_type": "code",
      "metadata": {
        "id": "NJfnkpljQQcq",
        "colab_type": "code",
        "colab": {
          "base_uri": "https://localhost:8080/",
          "height": 52
        },
        "outputId": "67b7a566-65ba-43c1-bf35-ea1db67b14ea"
      },
      "source": [
        "from cpc.feature_loader import loadModel\n",
        "\n",
        "checkpoint_path = '../checkpoint_data/checkpoint_30.pt'\n",
        "cpc_model, HIDDEN_CONTEXT_MODEL, HIDDEN_ENCODER_MODEL = loadModel([checkpoint_path])\n",
        "cpc_model = cpc_model.cuda()\n",
        "character_classifier = PhoneClassifier(HIDDEN_CONTEXT_MODEL, N_LETTERS).to(device)"
      ],
      "execution_count": 48,
      "outputs": [
        {
          "output_type": "stream",
          "text": [
            "Loading checkpoint ../checkpoint_data/checkpoint_30.pt\n",
            "Loading the state dict at ../checkpoint_data/checkpoint_30.pt\n"
          ],
          "name": "stdout"
        }
      ]
    },
    {
      "cell_type": "code",
      "metadata": {
        "id": "f-xxEywmScCB",
        "colab_type": "code",
        "colab": {}
      },
      "source": [
        "parameters = list(character_classifier.parameters()) + list(cpc_model.parameters())\n",
        "LEARNING_RATE = 2e-4\n",
        "optimizer = torch.optim.Adam(parameters, lr=LEARNING_RATE)\n",
        "\n",
        "optimizer_frozen = torch.optim.Adam(list(character_classifier.parameters()), lr=LEARNING_RATE)"
      ],
      "execution_count": 49,
      "outputs": []
    },
    {
      "cell_type": "code",
      "metadata": {
        "id": "0pFDj5_XSb_S",
        "colab_type": "code",
        "colab": {}
      },
      "source": [
        "loss_ctc = torch.nn.CTCLoss(zero_infinity=True)"
      ],
      "execution_count": 50,
      "outputs": []
    },
    {
      "cell_type": "code",
      "metadata": {
        "id": "6s--NI7pSb9Z",
        "colab_type": "code",
        "colab": {
          "base_uri": "https://localhost:8080/",
          "height": 1000
        },
        "outputId": "4840df0b-f1e7-46e8-cf1c-0b5d850dd821"
      },
      "source": [
        "run_ctc(cpc_model,character_classifier,loss_ctc,data_loader_train_letters,data_loader_val_letters,optimizer_frozen,n_epoch=10)"
      ],
      "execution_count": 51,
      "outputs": [
        {
          "output_type": "stream",
          "text": [
            "Running epoch 1 / 10\n",
            "-------------------\n",
            "Training dataset :\n",
            "Average loss : 34.74688169776495.\n",
            "-------------------\n",
            "Validation dataset\n",
            "Average loss : 29.79711248779297\n",
            "-------------------\n",
            "\n",
            "Running epoch 2 / 10\n",
            "-------------------\n",
            "Training dataset :\n",
            "Average loss : 24.83258881113637.\n",
            "-------------------\n",
            "Validation dataset\n",
            "Average loss : 20.162071548461913\n",
            "-------------------\n",
            "\n",
            "Running epoch 3 / 10\n",
            "-------------------\n",
            "Training dataset :\n",
            "Average loss : 16.316355175229173.\n",
            "-------------------\n",
            "Validation dataset\n",
            "Average loss : 12.900087188720702\n",
            "-------------------\n",
            "\n",
            "Running epoch 4 / 10\n",
            "-------------------\n",
            "Training dataset :\n",
            "Average loss : 10.577213947737038.\n",
            "-------------------\n",
            "Validation dataset\n",
            "Average loss : 8.67247957611084\n",
            "-------------------\n",
            "\n",
            "Running epoch 5 / 10\n",
            "-------------------\n",
            "Training dataset :\n",
            "Average loss : 7.440222170364916.\n",
            "-------------------\n",
            "Validation dataset\n",
            "Average loss : 6.443285507202148\n",
            "-------------------\n",
            "\n",
            "Running epoch 6 / 10\n",
            "-------------------\n",
            "Training dataset :\n",
            "Average loss : 5.748367740880305.\n",
            "-------------------\n",
            "Validation dataset\n",
            "Average loss : 5.191079601287842\n",
            "-------------------\n",
            "\n",
            "Running epoch 7 / 10\n",
            "-------------------\n",
            "Training dataset :\n",
            "Average loss : 4.789907754725547.\n",
            "-------------------\n",
            "Validation dataset\n",
            "Average loss : 4.464350517272949\n",
            "-------------------\n",
            "\n",
            "Running epoch 8 / 10\n",
            "-------------------\n",
            "Training dataset :\n",
            "Average loss : 4.236433330612566.\n",
            "-------------------\n",
            "Validation dataset\n",
            "Average loss : 4.036692462921143\n",
            "-------------------\n",
            "\n",
            "Running epoch 9 / 10\n",
            "-------------------\n",
            "Training dataset :\n",
            "Average loss : 3.9030140416706027.\n",
            "-------------------\n",
            "Validation dataset\n",
            "Average loss : 3.7723377685546877\n",
            "-------------------\n",
            "\n",
            "Running epoch 10 / 10\n",
            "-------------------\n",
            "Training dataset :\n",
            "Average loss : 3.6891175634297895.\n",
            "-------------------\n",
            "Validation dataset\n",
            "Average loss : 3.596484752655029\n",
            "-------------------\n",
            "\n"
          ],
          "name": "stdout"
        },
        {
          "output_type": "display_data",
          "data": {
            "application/javascript": [
              "\n",
              "    async function download(id, filename, size) {\n",
              "      if (!google.colab.kernel.accessAllowed) {\n",
              "        return;\n",
              "      }\n",
              "      const div = document.createElement('div');\n",
              "      const label = document.createElement('label');\n",
              "      label.textContent = `Downloading \"${filename}\": `;\n",
              "      div.appendChild(label);\n",
              "      const progress = document.createElement('progress');\n",
              "      progress.max = size;\n",
              "      div.appendChild(progress);\n",
              "      document.body.appendChild(div);\n",
              "\n",
              "      const buffers = [];\n",
              "      let downloaded = 0;\n",
              "\n",
              "      const channel = await google.colab.kernel.comms.open(id);\n",
              "      // Send a message to notify the kernel that we're ready.\n",
              "      channel.send({})\n",
              "\n",
              "      for await (const message of channel.messages) {\n",
              "        // Send a message to notify the kernel that we're ready.\n",
              "        channel.send({})\n",
              "        if (message.buffers) {\n",
              "          for (const buffer of message.buffers) {\n",
              "            buffers.push(buffer);\n",
              "            downloaded += buffer.byteLength;\n",
              "            progress.value = downloaded;\n",
              "          }\n",
              "        }\n",
              "      }\n",
              "      const blob = new Blob(buffers, {type: 'application/binary'});\n",
              "      const a = document.createElement('a');\n",
              "      a.href = window.URL.createObjectURL(blob);\n",
              "      a.download = filename;\n",
              "      div.appendChild(a);\n",
              "      a.click();\n",
              "      div.remove();\n",
              "    }\n",
              "  "
            ],
            "text/plain": [
              "<IPython.core.display.Javascript object>"
            ]
          },
          "metadata": {
            "tags": []
          }
        },
        {
          "output_type": "display_data",
          "data": {
            "application/javascript": [
              "download(\"download_c644bfe2-f471-494e-a6fe-fbcee09204f0\", \"ctc_loss.png\", 17081)"
            ],
            "text/plain": [
              "<IPython.core.display.Javascript object>"
            ]
          },
          "metadata": {
            "tags": []
          }
        },
        {
          "output_type": "display_data",
          "data": {
            "image/png": "[encoded data removed]",
            "text/plain": [
              "<Figure size 432x288 with 1 Axes>"
            ]
          },
          "metadata": {
            "tags": [],
            "needs_background": "light"
          }
        }
      ]
    },
    {
      "cell_type": "code",
      "metadata": {
        "id": "KIarR5T5Sbx-",
        "colab_type": "code",
        "colab": {
          "base_uri": "https://localhost:8080/",
          "height": 382
        },
        "outputId": "382e98dc-b02c-44ad-93b9-c0efeaee8dad"
      },
      "source": [
        "get_per(data_loader_val_letters,cpc_model,character_classifier)"
      ],
      "execution_count": 54,
      "outputs": [
        {
          "output_type": "stream",
          "text": [
            "\r                                                                               \r\rN/A% (0 of 32) |                         | Elapsed Time: 0:00:00 ETA:  --:--:--"
          ],
          "name": "stderr"
        },
        {
          "output_type": "stream",
          "text": [
            "Starting the PER computation through beam search\n"
          ],
          "name": "stdout"
        },
        {
          "output_type": "stream",
          "text": [
            "100% (32 of 32) |########################| Elapsed Time: 0:06:46 Time:  0:06:46\n"
          ],
          "name": "stderr"
        },
        {
          "output_type": "stream",
          "text": [
            "Average CER 0.6837551454955654\n"
          ],
          "name": "stdout"
        },
        {
          "output_type": "display_data",
          "data": {
            "application/javascript": [
              "\n",
              "    async function download(id, filename, size) {\n",
              "      if (!google.colab.kernel.accessAllowed) {\n",
              "        return;\n",
              "      }\n",
              "      const div = document.createElement('div');\n",
              "      const label = document.createElement('label');\n",
              "      label.textContent = `Downloading \"${filename}\": `;\n",
              "      div.appendChild(label);\n",
              "      const progress = document.createElement('progress');\n",
              "      progress.max = size;\n",
              "      div.appendChild(progress);\n",
              "      document.body.appendChild(div);\n",
              "\n",
              "      const buffers = [];\n",
              "      let downloaded = 0;\n",
              "\n",
              "      const channel = await google.colab.kernel.comms.open(id);\n",
              "      // Send a message to notify the kernel that we're ready.\n",
              "      channel.send({})\n",
              "\n",
              "      for await (const message of channel.messages) {\n",
              "        // Send a message to notify the kernel that we're ready.\n",
              "        channel.send({})\n",
              "        if (message.buffers) {\n",
              "          for (const buffer of message.buffers) {\n",
              "            buffers.push(buffer);\n",
              "            downloaded += buffer.byteLength;\n",
              "            progress.value = downloaded;\n",
              "          }\n",
              "        }\n",
              "      }\n",
              "      const blob = new Blob(buffers, {type: 'application/binary'});\n",
              "      const a = document.createElement('a');\n",
              "      a.href = window.URL.createObjectURL(blob);\n",
              "      a.download = filename;\n",
              "      div.appendChild(a);\n",
              "      a.click();\n",
              "      div.remove();\n",
              "    }\n",
              "  "
            ],
            "text/plain": [
              "<IPython.core.display.Javascript object>"
            ]
          },
          "metadata": {
            "tags": []
          }
        },
        {
          "output_type": "display_data",
          "data": {
            "application/javascript": [
              "download(\"download_c168bf84-0aa0-4fe7-b00e-786121dfb293\", \"Cer.png\", 19929)"
            ],
            "text/plain": [
              "<IPython.core.display.Javascript object>"
            ]
          },
          "metadata": {
            "tags": []
          }
        },
        {
          "output_type": "display_data",
          "data": {
            "image/png": "[encoded data removed]",
            "text/plain": [
              "<Figure size 432x288 with 1 Axes>"
            ]
          },
          "metadata": {
            "tags": [],
            "needs_background": "light"
          }
        },
        {
          "output_type": "execute_result",
          "data": {
            "text/plain": [
              "0.6837551454955654"
            ]
          },
          "metadata": {
            "tags": []
          },
          "execution_count": 54
        }
      ]
    },
    {
      "cell_type": "code",
      "metadata": {
        "id": "W9WUAkSFFlpy",
        "colab_type": "code",
        "colab": {}
      },
      "source": [
        ""
      ],
      "execution_count": 49,
      "outputs": []
    },
    {
      "cell_type": "code",
      "metadata": {
        "id": "0klXT8_3FmCq",
        "colab_type": "code",
        "colab": {}
      },
      "source": [
        ""
      ],
      "execution_count": null,
      "outputs": []
    }
  ]
}