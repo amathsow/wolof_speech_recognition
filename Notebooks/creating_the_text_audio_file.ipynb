{
  "nbformat": 4,
  "nbformat_minor": 0,
  "metadata": {
    "colab": {
      "name": "creating the text audio file.ipynb",
      "provenance": []
    },
    "kernelspec": {
      "name": "python3",
      "display_name": "Python 3"
    },
    "accelerator": "GPU"
  },
  "cells": [
    {
      "cell_type": "code",
      "metadata": {
        "id": "7X6bM_hnAPd-",
        "colab_type": "code",
        "colab": {
          "base_uri": "https://localhost:8080/",
          "height": 869
        },
        "outputId": "122aa5a8-fa71-44d6-8ffc-c6bd86c9632e"
      },
      "source": [
        "!pip3 install torch\n",
        "!pip3 install torchvision\n",
        "!pip3 install torchaudio\n",
        "!pip install comet_ml\n"
      ],
      "execution_count": null,
      "outputs": [
        {
          "output_type": "stream",
          "text": [
            "Requirement already satisfied: torch in /usr/local/lib/python3.6/dist-packages (1.5.1+cu101)\n",
            "Requirement already satisfied: future in /usr/local/lib/python3.6/dist-packages (from torch) (0.16.0)\n",
            "Requirement already satisfied: numpy in /usr/local/lib/python3.6/dist-packages (from torch) (1.18.5)\n",
            "Requirement already satisfied: torchvision in /usr/local/lib/python3.6/dist-packages (0.6.1+cu101)\n",
            "Requirement already satisfied: pillow>=4.1.1 in /usr/local/lib/python3.6/dist-packages (from torchvision) (7.0.0)\n",
            "Requirement already satisfied: torch==1.5.1 in /usr/local/lib/python3.6/dist-packages (from torchvision) (1.5.1+cu101)\n",
            "Requirement already satisfied: numpy in /usr/local/lib/python3.6/dist-packages (from torchvision) (1.18.5)\n",
            "Requirement already satisfied: future in /usr/local/lib/python3.6/dist-packages (from torch==1.5.1->torchvision) (0.16.0)\n",
            "Collecting torchaudio\n",
            "\u001b[?25l  Downloading https://files.pythonhosted.org/packages/e9/0a/40e53c686c2af65b2a4e818d11d9b76fa79178440caf99f3ceb2a32c3b04/torchaudio-0.5.1-cp36-cp36m-manylinux1_x86_64.whl (3.2MB)\n",
            "\u001b[K     |████████████████████████████████| 3.2MB 4.6MB/s \n",
            "\u001b[?25hRequirement already satisfied: torch==1.5.1 in /usr/local/lib/python3.6/dist-packages (from torchaudio) (1.5.1+cu101)\n",
            "Requirement already satisfied: future in /usr/local/lib/python3.6/dist-packages (from torch==1.5.1->torchaudio) (0.16.0)\n",
            "Requirement already satisfied: numpy in /usr/local/lib/python3.6/dist-packages (from torch==1.5.1->torchaudio) (1.18.5)\n",
            "Installing collected packages: torchaudio\n",
            "Successfully installed torchaudio-0.5.1\n",
            "Collecting comet_ml\n",
            "\u001b[?25l  Downloading https://files.pythonhosted.org/packages/ac/d8/99564b9b0d68a8acce733a5b053497a4a51e3ffdc54e4b117808bd6c4c94/comet_ml-3.1.12-py2.py3-none-any.whl (214kB)\n",
            "\u001b[K     |████████████████████████████████| 215kB 4.6MB/s \n",
            "\u001b[?25hCollecting wurlitzer>=1.0.2\n",
            "  Downloading https://files.pythonhosted.org/packages/0c/1e/52f4effa64a447c4ec0fb71222799e2ac32c55b4b6c1725fccdf6123146e/wurlitzer-2.0.1-py2.py3-none-any.whl\n",
            "Collecting websocket-client>=0.55.0\n",
            "\u001b[?25l  Downloading https://files.pythonhosted.org/packages/4c/5f/f61b420143ed1c8dc69f9eaec5ff1ac36109d52c80de49d66e0c36c3dfdf/websocket_client-0.57.0-py2.py3-none-any.whl (200kB)\n",
            "\u001b[K     |████████████████████████████████| 204kB 13.4MB/s \n",
            "\u001b[?25hCollecting comet-git-pure>=0.19.11\n",
            "\u001b[?25l  Downloading https://files.pythonhosted.org/packages/72/7a/483413046e48908986a0f9a1d8a917e1da46ae58e6ba16b2ac71b3adf8d7/comet_git_pure-0.19.16-py3-none-any.whl (409kB)\n",
            "\u001b[K     |████████████████████████████████| 419kB 14.6MB/s \n",
            "\u001b[?25hRequirement already satisfied: jsonschema!=3.1.0,>=2.6.0 in /usr/local/lib/python3.6/dist-packages (from comet_ml) (2.6.0)\n",
            "Requirement already satisfied: requests>=2.18.4 in /usr/local/lib/python3.6/dist-packages (from comet_ml) (2.23.0)\n",
            "Requirement already satisfied: six in /usr/local/lib/python3.6/dist-packages (from comet_ml) (1.12.0)\n",
            "Collecting everett[ini]>=1.0.1; python_version >= \"3.0\"\n",
            "  Downloading https://files.pythonhosted.org/packages/12/34/de70a3d913411e40ce84966f085b5da0c6df741e28c86721114dd290aaa0/everett-1.0.2-py2.py3-none-any.whl\n",
            "Collecting netifaces>=0.10.7\n",
            "  Downloading https://files.pythonhosted.org/packages/0c/9b/c4c7eb09189548d45939a3d3a6b3d53979c67d124459b27a094c365c347f/netifaces-0.10.9-cp36-cp36m-manylinux1_x86_64.whl\n",
            "Requirement already satisfied: nvidia-ml-py3>=7.352.0 in /usr/local/lib/python3.6/dist-packages (from comet_ml) (7.352.0)\n",
            "Requirement already satisfied: urllib3>=1.24.1 in /usr/local/lib/python3.6/dist-packages (from comet-git-pure>=0.19.11->comet_ml) (1.24.3)\n",
            "Requirement already satisfied: certifi in /usr/local/lib/python3.6/dist-packages (from comet-git-pure>=0.19.11->comet_ml) (2020.6.20)\n",
            "Requirement already satisfied: idna<3,>=2.5 in /usr/local/lib/python3.6/dist-packages (from requests>=2.18.4->comet_ml) (2.9)\n",
            "Requirement already satisfied: chardet<4,>=3.0.2 in /usr/local/lib/python3.6/dist-packages (from requests>=2.18.4->comet_ml) (3.0.4)\n",
            "Collecting configobj; extra == \"ini\"\n",
            "  Downloading https://files.pythonhosted.org/packages/64/61/079eb60459c44929e684fa7d9e2fdca403f67d64dd9dbac27296be2e0fab/configobj-5.0.6.tar.gz\n",
            "Building wheels for collected packages: configobj\n",
            "  Building wheel for configobj (setup.py) ... \u001b[?25l\u001b[?25hdone\n",
            "  Created wheel for configobj: filename=configobj-5.0.6-cp36-none-any.whl size=34546 sha256=502b18e21a1f14961c373d19629bfcd029ecbea6b906cdd545f64285d279e745\n",
            "  Stored in directory: /root/.cache/pip/wheels/f1/e4/16/4981ca97c2d65106b49861e0b35e2660695be7219a2d351ee0\n",
            "Successfully built configobj\n",
            "Installing collected packages: wurlitzer, websocket-client, comet-git-pure, configobj, everett, netifaces, comet-ml\n",
            "Successfully installed comet-git-pure-0.19.16 comet-ml-3.1.12 configobj-5.0.6 everett-1.0.2 netifaces-0.10.9 websocket-client-0.57.0 wurlitzer-2.0.1\n"
          ],
          "name": "stdout"
        }
      ]
    },
    {
      "cell_type": "code",
      "metadata": {
        "id": "HwI2tmIr_S11",
        "colab_type": "code",
        "colab": {}
      },
      "source": [
        "import os\n",
        "from comet_ml import Experiment\n",
        "import torch\n",
        "import torch.nn as nn\n",
        "import torch.utils.data as data\n",
        "import torch.optim as optim\n",
        "import torch.nn.functional as F\n",
        "import torchaudio\n",
        "import numpy as np\n",
        "import pandas as pd\n",
        "import librosa"
      ],
      "execution_count": null,
      "outputs": []
    },
    {
      "cell_type": "markdown",
      "metadata": {
        "id": "tNbD-pQOBm6Y",
        "colab_type": "text"
      },
      "source": [
        "## ETL process"
      ]
    },
    {
      "cell_type": "code",
      "metadata": {
        "id": "otyhGraoAiS7",
        "colab_type": "code",
        "colab": {
          "base_uri": "https://localhost:8080/",
          "height": 124
        },
        "outputId": "31b22312-6239-4b05-9c6f-8e3eb0214749"
      },
      "source": [
        "from google.colab import drive\n",
        "drive.mount('/content/drive')"
      ],
      "execution_count": null,
      "outputs": [
        {
          "output_type": "stream",
          "text": [
            "Go to this URL in a browser: https://accounts.google.com/o/oauth2/auth?client_id=947318989803-6bn6qk8qdgf4n4g3pfee6491hc0brc4i.apps.googleusercontent.com&redirect_uri=urn%3aietf%3awg%3aoauth%3a2.0%3aoob&response_type=code&scope=email%20https%3a%2f%2fwww.googleapis.com%2fauth%2fdocs.test%20https%3a%2f%2fwww.googleapis.com%2fauth%2fdrive%20https%3a%2f%2fwww.googleapis.com%2fauth%2fdrive.photos.readonly%20https%3a%2f%2fwww.googleapis.com%2fauth%2fpeopleapi.readonly\n",
            "\n",
            "Enter your authorization code:\n",
            "··········\n",
            "Mounted at /content/drive\n"
          ],
          "name": "stdout"
        }
      ]
    },
    {
      "cell_type": "code",
      "metadata": {
        "id": "Rki3QAn3Phie",
        "colab_type": "code",
        "colab": {}
      },
      "source": [
        "path_audio= 'drive/My Drive/Speech Recognition project/recordings/'\n",
        "path_text = 'drive/My Drive/Speech Recognition project/wolof_text/'\n",
        "wav_text = 'drive/My Drive/Speech Recognition project/Wavtext_dataset2.csv'"
      ],
      "execution_count": null,
      "outputs": []
    },
    {
      "cell_type": "markdown",
      "metadata": {
        "id": "xa5hWojcFenl",
        "colab_type": "text"
      },
      "source": [
        "## Data preparation for created the char.txt file from my dataset."
      ]
    },
    {
      "cell_type": "code",
      "metadata": {
        "id": "X5DgzXaMqnvL",
        "colab_type": "code",
        "colab": {
          "base_uri": "https://localhost:8080/",
          "height": 430
        },
        "outputId": "b219f16d-e018-4deb-a978-4d37476f16f0"
      },
      "source": [
        "wavtext = pd.read_csv(wav_text)\n",
        "wavtext.head()"
      ],
      "execution_count": null,
      "outputs": [
        {
          "output_type": "execute_result",
          "data": {
            "text/html": [
              "<div>\n",
              "<style scoped>\n",
              "    .dataframe tbody tr th:only-of-type {\n",
              "        vertical-align: middle;\n",
              "    }\n",
              "\n",
              "    .dataframe tbody tr th {\n",
              "        vertical-align: top;\n",
              "    }\n",
              "\n",
              "    .dataframe thead th {\n",
              "        text-align: right;\n",
              "    }\n",
              "</style>\n",
              "<table border=\"1\" class=\"dataframe\">\n",
              "  <thead>\n",
              "    <tr style=\"text-align: right;\">\n",
              "      <th></th>\n",
              "      <th>0</th>\n",
              "      <th>text_path</th>\n",
              "      <th>wav_path</th>\n",
              "      <th>bloc</th>\n",
              "      <th>line</th>\n",
              "      <th>text</th>\n",
              "    </tr>\n",
              "  </thead>\n",
              "  <tbody>\n",
              "    <tr>\n",
              "      <th>0</th>\n",
              "      <td>/storage/emulated/0/ligaikuma/examples/bloc10....</td>\n",
              "      <td>bloc10.txt (line 1)</td>\n",
              "      <td>200702-231930_wol_8ec_elicit_0.wav</td>\n",
              "      <td>bloc10.txt</td>\n",
              "      <td>1</td>\n",
              "      <td>Nu ngi indee woon jiwu ji sapoN</td>\n",
              "    </tr>\n",
              "    <tr>\n",
              "      <th>1</th>\n",
              "      <td>/storage/emulated/0/ligaikuma/examples/bloc10....</td>\n",
              "      <td>bloc10.txt (line 2)</td>\n",
              "      <td>200702-231930_wol_8ec_elicit_1.wav</td>\n",
              "      <td>bloc10.txt</td>\n",
              "      <td>2</td>\n",
              "      <td>Nu ngi tollu dagana</td>\n",
              "    </tr>\n",
              "    <tr>\n",
              "      <th>2</th>\n",
              "      <td>/storage/emulated/0/ligaikuma/examples/bloc10....</td>\n",
              "      <td>bloc10.txt (line 3)</td>\n",
              "      <td>200702-231930_wol_8ec_elicit_2.wav</td>\n",
              "      <td>bloc10.txt</td>\n",
              "      <td>3</td>\n",
              "      <td>Nu ngi wàkkirlu ci yàlla</td>\n",
              "    </tr>\n",
              "    <tr>\n",
              "      <th>3</th>\n",
              "      <td>/storage/emulated/0/ligaikuma/examples/bloc10....</td>\n",
              "      <td>bloc10.txt (line 4)</td>\n",
              "      <td>200702-231930_wol_8ec_elicit_3.wav</td>\n",
              "      <td>bloc10.txt</td>\n",
              "      <td>4</td>\n",
              "      <td>Nu ñow nag def ko ci kër gi</td>\n",
              "    </tr>\n",
              "    <tr>\n",
              "      <th>4</th>\n",
              "      <td>/storage/emulated/0/ligaikuma/examples/bloc10....</td>\n",
              "      <td>bloc10.txt (line 5)</td>\n",
              "      <td>200702-231930_wol_8ec_elicit_4.wav</td>\n",
              "      <td>bloc10.txt</td>\n",
              "      <td>5</td>\n",
              "      <td>Nuggaayu néeg bee ko fi téye</td>\n",
              "    </tr>\n",
              "  </tbody>\n",
              "</table>\n",
              "</div>"
            ],
            "text/plain": [
              "                                                   0  ...                             text\n",
              "0  /storage/emulated/0/ligaikuma/examples/bloc10....  ...  Nu ngi indee woon jiwu ji sapoN\n",
              "1  /storage/emulated/0/ligaikuma/examples/bloc10....  ...              Nu ngi tollu dagana\n",
              "2  /storage/emulated/0/ligaikuma/examples/bloc10....  ...         Nu ngi wàkkirlu ci yàlla\n",
              "3  /storage/emulated/0/ligaikuma/examples/bloc10....  ...      Nu ñow nag def ko ci kër gi\n",
              "4  /storage/emulated/0/ligaikuma/examples/bloc10....  ...     Nuggaayu néeg bee ko fi téye\n",
              "\n",
              "[5 rows x 6 columns]"
            ]
          },
          "metadata": {
            "tags": []
          },
          "execution_count": 5
        }
      ]
    },
    {
      "cell_type": "code",
      "metadata": {
        "id": "6qRw_3cIvfX9",
        "colab_type": "code",
        "colab": {
          "base_uri": "https://localhost:8080/",
          "height": 326
        },
        "outputId": "e55bec61-4971-4ee6-fc03-76333a728098"
      },
      "source": [
        "df = wavtext[['wav_path','text']]\n",
        "df['wav_path'] = df['wav_path'].apply(lambda x: x.replace(' ',''))\n",
        "df.head()"
      ],
      "execution_count": null,
      "outputs": [
        {
          "output_type": "stream",
          "text": [
            "/usr/local/lib/python3.6/dist-packages/ipykernel_launcher.py:2: SettingWithCopyWarning: \n",
            "A value is trying to be set on a copy of a slice from a DataFrame.\n",
            "Try using .loc[row_indexer,col_indexer] = value instead\n",
            "\n",
            "See the caveats in the documentation: https://pandas.pydata.org/pandas-docs/stable/user_guide/indexing.html#returning-a-view-versus-a-copy\n",
            "  \n"
          ],
          "name": "stderr"
        },
        {
          "output_type": "execute_result",
          "data": {
            "text/html": [
              "<div>\n",
              "<style scoped>\n",
              "    .dataframe tbody tr th:only-of-type {\n",
              "        vertical-align: middle;\n",
              "    }\n",
              "\n",
              "    .dataframe tbody tr th {\n",
              "        vertical-align: top;\n",
              "    }\n",
              "\n",
              "    .dataframe thead th {\n",
              "        text-align: right;\n",
              "    }\n",
              "</style>\n",
              "<table border=\"1\" class=\"dataframe\">\n",
              "  <thead>\n",
              "    <tr style=\"text-align: right;\">\n",
              "      <th></th>\n",
              "      <th>wav_path</th>\n",
              "      <th>text</th>\n",
              "    </tr>\n",
              "  </thead>\n",
              "  <tbody>\n",
              "    <tr>\n",
              "      <th>0</th>\n",
              "      <td>200702-231930_wol_8ec_elicit_0.wav</td>\n",
              "      <td>Nu ngi indee woon jiwu ji sapoN</td>\n",
              "    </tr>\n",
              "    <tr>\n",
              "      <th>1</th>\n",
              "      <td>200702-231930_wol_8ec_elicit_1.wav</td>\n",
              "      <td>Nu ngi tollu dagana</td>\n",
              "    </tr>\n",
              "    <tr>\n",
              "      <th>2</th>\n",
              "      <td>200702-231930_wol_8ec_elicit_2.wav</td>\n",
              "      <td>Nu ngi wàkkirlu ci yàlla</td>\n",
              "    </tr>\n",
              "    <tr>\n",
              "      <th>3</th>\n",
              "      <td>200702-231930_wol_8ec_elicit_3.wav</td>\n",
              "      <td>Nu ñow nag def ko ci kër gi</td>\n",
              "    </tr>\n",
              "    <tr>\n",
              "      <th>4</th>\n",
              "      <td>200702-231930_wol_8ec_elicit_4.wav</td>\n",
              "      <td>Nuggaayu néeg bee ko fi téye</td>\n",
              "    </tr>\n",
              "  </tbody>\n",
              "</table>\n",
              "</div>"
            ],
            "text/plain": [
              "                             wav_path                             text\n",
              "0  200702-231930_wol_8ec_elicit_0.wav  Nu ngi indee woon jiwu ji sapoN\n",
              "1  200702-231930_wol_8ec_elicit_1.wav              Nu ngi tollu dagana\n",
              "2  200702-231930_wol_8ec_elicit_2.wav         Nu ngi wàkkirlu ci yàlla\n",
              "3  200702-231930_wol_8ec_elicit_3.wav      Nu ñow nag def ko ci kër gi\n",
              "4  200702-231930_wol_8ec_elicit_4.wav     Nuggaayu néeg bee ko fi téye"
            ]
          },
          "metadata": {
            "tags": []
          },
          "execution_count": 6
        }
      ]
    },
    {
      "cell_type": "code",
      "metadata": {
        "id": "wc5o_XpRHjrf",
        "colab_type": "code",
        "colab": {
          "base_uri": "https://localhost:8080/",
          "height": 124
        },
        "outputId": "a589705d-73cc-4f98-c7ee-2ed3b33ca7c6"
      },
      "source": [
        "from glob import glob\n",
        "lastpath = 'drive/My Drive/Speech Recognition project/data/last_records/'\n",
        "audioPath = glob(lastpath+\"*/*.wav*\", recursive=True)\n",
        "audioPath[0:5]"
      ],
      "execution_count": null,
      "outputs": [
        {
          "output_type": "execute_result",
          "data": {
            "text/plain": [
              "['drive/My Drive/Speech Recognition project/data/last_records/200705-180253_wof_758_elicit/200705-180253_wof_758_elicit_0.wav',\n",
              " 'drive/My Drive/Speech Recognition project/data/last_records/200705-180253_wof_758_elicit/200705-180253_wof_758_elicit_1.wav',\n",
              " 'drive/My Drive/Speech Recognition project/data/last_records/200705-180253_wof_758_elicit/200705-180253_wof_758_elicit_2.wav',\n",
              " 'drive/My Drive/Speech Recognition project/data/last_records/200705-180253_wof_758_elicit/200705-180253_wof_758_elicit_3.wav',\n",
              " 'drive/My Drive/Speech Recognition project/data/last_records/200705-180253_wof_758_elicit/200705-180253_wof_758_elicit_5.wav']"
            ]
          },
          "metadata": {
            "tags": []
          },
          "execution_count": 7
        }
      ]
    },
    {
      "cell_type": "code",
      "metadata": {
        "id": "uPV2aS2Vyxmc",
        "colab_type": "code",
        "colab": {}
      },
      "source": [
        "import shutil \n",
        "from shutil import  copy"
      ],
      "execution_count": null,
      "outputs": []
    },
    {
      "cell_type": "code",
      "metadata": {
        "id": "q-MpknYwBj2q",
        "colab_type": "code",
        "colab": {}
      },
      "source": [
        "for wav in audioPath:\n",
        "  copy(wav,'drive/My Drive/Speech Recognition project/all_audios/')\n"
      ],
      "execution_count": null,
      "outputs": []
    },
    {
      "cell_type": "code",
      "metadata": {
        "id": "4XpK3cFC6hWb",
        "colab_type": "code",
        "colab": {}
      },
      "source": [
        "wavpath = '../drive/My Drive/Speech Recognition project/all_audios/'"
      ],
      "execution_count": null,
      "outputs": []
    },
    {
      "cell_type": "code",
      "metadata": {
        "id": "nEkZWVgc6s6j",
        "colab_type": "code",
        "colab": {}
      },
      "source": [
        "np.random.seed(0)\n",
        "indices = np.random.permutation(len(df['wav_path']))\n",
        "\n",
        "test_idx = indices[:len(indices)//2]\n",
        "validation_portion = int(len(indices)//2 * 0.2)\n",
        "train_idx = indices[len(indices)//2:-validation_portion]\n",
        "valid_idx = indices[-validation_portion:]"
      ],
      "execution_count": null,
      "outputs": []
    },
    {
      "cell_type": "code",
      "metadata": {
        "id": "-LuFd0mO6hHz",
        "colab_type": "code",
        "colab": {
          "base_uri": "https://localhost:8080/",
          "height": 35
        },
        "outputId": "1d3646cc-2c0a-4637-f93a-533fa3d65a14"
      },
      "source": [
        "datapath = 'drive/My Drive/Speech Recognition project/data/records'"
      ],
      "execution_count": null,
      "outputs": [
        {
          "output_type": "execute_result",
          "data": {
            "text/plain": [
              "251"
            ]
          },
          "metadata": {
            "tags": []
          },
          "execution_count": 118
        }
      ]
    },
    {
      "cell_type": "code",
      "metadata": {
        "id": "w0NEAVLvsEpq",
        "colab_type": "code",
        "colab": {}
      },
      "source": [
        "trainpath = '../drive/My Drive/Speech Recognition project/data/records/train/'\n",
        "valpath =  '../drive/My Drive/Speech Recognition project/data/records/val/'\n",
        "testpath =  '../drive/My Drive/Speech Recognition project/data/records/test/'\n"
      ],
      "execution_count": null,
      "outputs": []
    },
    {
      "cell_type": "code",
      "metadata": {
        "id": "X02Th06V6g6C",
        "colab_type": "code",
        "colab": {}
      },
      "source": [
        "train_set_files = [df['wav_path'].iloc[i] for i in train_idx]\n",
        "valid_set_files = [df['wav_path'].iloc[i] for i in valid_idx]\n",
        "test_set_files = [df['wav_path'].iloc[i] for i in test_idx]"
      ],
      "execution_count": null,
      "outputs": []
    },
    {
      "cell_type": "code",
      "metadata": {
        "id": "F31SMRdoqR7l",
        "colab_type": "code",
        "colab": {}
      },
      "source": [
        "for wav in train_set_files:\n",
        "  fil = wavpath+wav\n",
        "  if os.path.exists(fil):\n",
        "    copy(wavpath+wav,trainpath)\n",
        "\n",
        "for wav in valid_set_files:\n",
        "  fil = wavpath+wav\n",
        "  if os.path.exists(fil):\n",
        "    copy(wavpath+wav,valpath)\n",
        "\n",
        "for wav in test_set_files:\n",
        "  fil = wavpath+wav\n",
        "  if os.path.exists(fil):\n",
        "    copy(wavpath+wav,testpath)"
      ],
      "execution_count": null,
      "outputs": []
    },
    {
      "cell_type": "code",
      "metadata": {
        "id": "JqdPyX9xqtgp",
        "colab_type": "code",
        "colab": {
          "base_uri": "https://localhost:8080/",
          "height": 141
        },
        "outputId": "a04f410a-36e1-4fd0-c99c-24555f4f6239"
      },
      "source": [
        "import re\n",
        "char_idx = 2\n",
        "chars = {\" \":1}\n",
        "df['text']=df['text'].apply(lambda x: re.sub(\"[-!;»,_...«.\\\"\\\"\\(\\)~#:?…“”–]\",\"\",x))\n",
        "for line in df['text']:\n",
        "  #line = re.sub(\"[-!;»,_...«.\\\"\\\"\\(\\)~#:?…“”–]\",\"\",line)\n",
        "  char_set = set(line)\n",
        "  for c in char_set:\n",
        "      if c not in chars:\n",
        "          chars[c]=char_idx\n",
        "          char_idx+=1"
      ],
      "execution_count": null,
      "outputs": [
        {
          "output_type": "stream",
          "text": [
            "/usr/local/lib/python3.6/dist-packages/ipykernel_launcher.py:4: SettingWithCopyWarning: \n",
            "A value is trying to be set on a copy of a slice from a DataFrame.\n",
            "Try using .loc[row_indexer,col_indexer] = value instead\n",
            "\n",
            "See the caveats in the documentation: https://pandas.pydata.org/pandas-docs/stable/user_guide/indexing.html#returning-a-view-versus-a-copy\n",
            "  after removing the cwd from sys.path.\n"
          ],
          "name": "stderr"
        }
      ]
    },
    {
      "cell_type": "code",
      "metadata": {
        "id": "JBQBNT5jN_xK",
        "colab_type": "code",
        "colab": {}
      },
      "source": [
        "indices_text = []\n",
        "for line,wav in zip(df['text'],df['wav_path']):\n",
        "    line = list(line)\n",
        "    indicies = []\n",
        "    wav = wav.split('.')[0]\n",
        "    for c in line:\n",
        "        indicies.append(str(chars[c]))\n",
        "    indices_text.append(wav+\" \"+\" \".join(indicies))"
      ],
      "execution_count": null,
      "outputs": []
    },
    {
      "cell_type": "code",
      "metadata": {
        "id": "Fz85l-0MQDgk",
        "colab_type": "code",
        "colab": {}
      },
      "source": [
        "indicies_text = \"\\n\".join(indices_text)\n",
        "with open(\"drive/My Drive/Speech Recognition project/data/chars2.txt\",\"w\") as f:\n",
        "    f.write(indicies_text)"
      ],
      "execution_count": null,
      "outputs": []
    }
  ]
}