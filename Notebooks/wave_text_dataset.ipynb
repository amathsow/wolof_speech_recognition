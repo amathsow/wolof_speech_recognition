{
 "cells": [
  {
   "cell_type": "code",
   "execution_count": 52,
   "metadata": {},
   "outputs": [],
   "source": [
    "import os\n",
    "import pandas as pd\n",
    "import glob"
   ]
  },
  {
   "cell_type": "code",
   "execution_count": 53,
   "metadata": {},
   "outputs": [
    {
     "name": "stdout",
     "output_type": "stream",
     "text": [
      "'AMMI 2020 #1.1 Plan & Intro - ASR for real - Dupoux.pdf'\r\n",
      "'AMMI 2020 - #1.2 - low resource ASR - ASR for real - Dupoux.pdf'\r\n",
      " AMMI-2020-PROJECT.pdf\r\n",
      "'AMMI course on  Speech Recognition.pdf'\r\n",
      " AMMI_speech_recognition_lectures_2.0_2.1.pdf\r\n",
      " Data\r\n",
      " graphes\r\n",
      " Lab\r\n",
      "'recordings(1)'\r\n",
      "'recordings(1).zip'\r\n",
      " scrip_prep.ipynb\r\n",
      " wave_text_dataset.ipynb\r\n",
      " Wavtext_dataset.csv\r\n",
      " Wavtext_dataset.txt\r\n"
     ]
    }
   ],
   "source": [
    "!ls"
   ]
  },
  {
   "cell_type": "code",
   "execution_count": 91,
   "metadata": {},
   "outputs": [],
   "source": [
    "datapath = './Data/recordings/'\n",
    "textpath = './Data/wolof_text/'"
   ]
  },
  {
   "cell_type": "code",
   "execution_count": 109,
   "metadata": {},
   "outputs": [
    {
     "data": {
      "text/plain": [
       "54"
      ]
     },
     "execution_count": 109,
     "metadata": {},
     "output_type": "execute_result"
    }
   ],
   "source": [
    "folds = os.listdir(datapath)\n",
    "len(folds)"
   ]
  },
  {
   "cell_type": "code",
   "execution_count": 120,
   "metadata": {},
   "outputs": [
    {
     "data": {
      "text/html": [
       "<div>\n",
       "<style scoped>\n",
       "    .dataframe tbody tr th:only-of-type {\n",
       "        vertical-align: middle;\n",
       "    }\n",
       "\n",
       "    .dataframe tbody tr th {\n",
       "        vertical-align: top;\n",
       "    }\n",
       "\n",
       "    .dataframe thead th {\n",
       "        text-align: right;\n",
       "    }\n",
       "</style>\n",
       "<table border=\"1\" class=\"dataframe\">\n",
       "  <thead>\n",
       "    <tr style=\"text-align: right;\">\n",
       "      <th></th>\n",
       "    </tr>\n",
       "  </thead>\n",
       "  <tbody>\n",
       "  </tbody>\n",
       "</table>\n",
       "</div>"
      ],
      "text/plain": [
       "Empty DataFrame\n",
       "Columns: []\n",
       "Index: []"
      ]
     },
     "execution_count": 120,
     "metadata": {},
     "output_type": "execute_result"
    }
   ],
   "source": [
    "df = pd.DataFrame()\n",
    "df"
   ]
  },
  {
   "cell_type": "code",
   "execution_count": 121,
   "metadata": {},
   "outputs": [],
   "source": [
    "for fold in folds:\n",
    "    linker = pd.read_table(datapath+fold+'/'+fold+'_linker.txt', header=None)\n",
    "    linker['text_path'] = linker[0].apply(lambda x: x.split(';')[0].split('/')[-1])\n",
    "    linker['wav_path'] = linker[0].apply(lambda x: x.split(';')[1].split('/')[-1])\n",
    "    linker['bloc'] =linker['text_path'].apply(lambda x: x.split('(')[0])\n",
    "    linker['line'] =linker['text_path'].apply(lambda x: x.split('(')[1][:-1])\n",
    "    df = pd.concat([df,linker])    "
   ]
  },
  {
   "cell_type": "code",
   "execution_count": 122,
   "metadata": {},
   "outputs": [
    {
     "data": {
      "text/html": [
       "<div>\n",
       "<style scoped>\n",
       "    .dataframe tbody tr th:only-of-type {\n",
       "        vertical-align: middle;\n",
       "    }\n",
       "\n",
       "    .dataframe tbody tr th {\n",
       "        vertical-align: top;\n",
       "    }\n",
       "\n",
       "    .dataframe thead th {\n",
       "        text-align: right;\n",
       "    }\n",
       "</style>\n",
       "<table border=\"1\" class=\"dataframe\">\n",
       "  <thead>\n",
       "    <tr style=\"text-align: right;\">\n",
       "      <th></th>\n",
       "      <th>0</th>\n",
       "      <th>text_path</th>\n",
       "      <th>wav_path</th>\n",
       "      <th>bloc</th>\n",
       "      <th>line</th>\n",
       "    </tr>\n",
       "  </thead>\n",
       "  <tbody>\n",
       "    <tr>\n",
       "      <th>0</th>\n",
       "      <td>/storage/emulated/0/ligaikuma/examples/bloc10....</td>\n",
       "      <td>bloc10.txt (line 1)</td>\n",
       "      <td>200702-231930_wol_8ec_elicit_0.wav</td>\n",
       "      <td>bloc10.txt</td>\n",
       "      <td>line 1)</td>\n",
       "    </tr>\n",
       "    <tr>\n",
       "      <th>1</th>\n",
       "      <td>/storage/emulated/0/ligaikuma/examples/bloc10....</td>\n",
       "      <td>bloc10.txt (line 2)</td>\n",
       "      <td>200702-231930_wol_8ec_elicit_1.wav</td>\n",
       "      <td>bloc10.txt</td>\n",
       "      <td>line 2)</td>\n",
       "    </tr>\n",
       "    <tr>\n",
       "      <th>2</th>\n",
       "      <td>/storage/emulated/0/ligaikuma/examples/bloc10....</td>\n",
       "      <td>bloc10.txt (line 3)</td>\n",
       "      <td>200702-231930_wol_8ec_elicit_2.wav</td>\n",
       "      <td>bloc10.txt</td>\n",
       "      <td>line 3)</td>\n",
       "    </tr>\n",
       "    <tr>\n",
       "      <th>3</th>\n",
       "      <td>/storage/emulated/0/ligaikuma/examples/bloc10....</td>\n",
       "      <td>bloc10.txt (line 4)</td>\n",
       "      <td>200702-231930_wol_8ec_elicit_3.wav</td>\n",
       "      <td>bloc10.txt</td>\n",
       "      <td>line 4)</td>\n",
       "    </tr>\n",
       "    <tr>\n",
       "      <th>4</th>\n",
       "      <td>/storage/emulated/0/ligaikuma/examples/bloc10....</td>\n",
       "      <td>bloc10.txt (line 5)</td>\n",
       "      <td>200702-231930_wol_8ec_elicit_4.wav</td>\n",
       "      <td>bloc10.txt</td>\n",
       "      <td>line 5)</td>\n",
       "    </tr>\n",
       "  </tbody>\n",
       "</table>\n",
       "</div>"
      ],
      "text/plain": [
       "                                                   0             text_path  \\\n",
       "0  /storage/emulated/0/ligaikuma/examples/bloc10....  bloc10.txt (line 1)    \n",
       "1  /storage/emulated/0/ligaikuma/examples/bloc10....  bloc10.txt (line 2)    \n",
       "2  /storage/emulated/0/ligaikuma/examples/bloc10....  bloc10.txt (line 3)    \n",
       "3  /storage/emulated/0/ligaikuma/examples/bloc10....  bloc10.txt (line 4)    \n",
       "4  /storage/emulated/0/ligaikuma/examples/bloc10....  bloc10.txt (line 5)    \n",
       "\n",
       "                             wav_path         bloc     line  \n",
       "0  200702-231930_wol_8ec_elicit_0.wav  bloc10.txt   line 1)  \n",
       "1  200702-231930_wol_8ec_elicit_1.wav  bloc10.txt   line 2)  \n",
       "2  200702-231930_wol_8ec_elicit_2.wav  bloc10.txt   line 3)  \n",
       "3  200702-231930_wol_8ec_elicit_3.wav  bloc10.txt   line 4)  \n",
       "4  200702-231930_wol_8ec_elicit_4.wav  bloc10.txt   line 5)  "
      ]
     },
     "execution_count": 122,
     "metadata": {},
     "output_type": "execute_result"
    }
   ],
   "source": [
    "df.head()"
   ]
  },
  {
   "cell_type": "code",
   "execution_count": 123,
   "metadata": {},
   "outputs": [
    {
     "data": {
      "text/html": [
       "<div>\n",
       "<style scoped>\n",
       "    .dataframe tbody tr th:only-of-type {\n",
       "        vertical-align: middle;\n",
       "    }\n",
       "\n",
       "    .dataframe tbody tr th {\n",
       "        vertical-align: top;\n",
       "    }\n",
       "\n",
       "    .dataframe thead th {\n",
       "        text-align: right;\n",
       "    }\n",
       "</style>\n",
       "<table border=\"1\" class=\"dataframe\">\n",
       "  <thead>\n",
       "    <tr style=\"text-align: right;\">\n",
       "      <th></th>\n",
       "      <th>0</th>\n",
       "      <th>text_path</th>\n",
       "      <th>wav_path</th>\n",
       "      <th>bloc</th>\n",
       "      <th>line</th>\n",
       "    </tr>\n",
       "  </thead>\n",
       "  <tbody>\n",
       "    <tr>\n",
       "      <th>0</th>\n",
       "      <td>/storage/emulated/0/ligaikuma/examples/bloc10....</td>\n",
       "      <td>bloc10.txt (line 1)</td>\n",
       "      <td>200702-231930_wol_8ec_elicit_0.wav</td>\n",
       "      <td>bloc10.txt</td>\n",
       "      <td>1</td>\n",
       "    </tr>\n",
       "    <tr>\n",
       "      <th>1</th>\n",
       "      <td>/storage/emulated/0/ligaikuma/examples/bloc10....</td>\n",
       "      <td>bloc10.txt (line 2)</td>\n",
       "      <td>200702-231930_wol_8ec_elicit_1.wav</td>\n",
       "      <td>bloc10.txt</td>\n",
       "      <td>2</td>\n",
       "    </tr>\n",
       "    <tr>\n",
       "      <th>2</th>\n",
       "      <td>/storage/emulated/0/ligaikuma/examples/bloc10....</td>\n",
       "      <td>bloc10.txt (line 3)</td>\n",
       "      <td>200702-231930_wol_8ec_elicit_2.wav</td>\n",
       "      <td>bloc10.txt</td>\n",
       "      <td>3</td>\n",
       "    </tr>\n",
       "    <tr>\n",
       "      <th>3</th>\n",
       "      <td>/storage/emulated/0/ligaikuma/examples/bloc10....</td>\n",
       "      <td>bloc10.txt (line 4)</td>\n",
       "      <td>200702-231930_wol_8ec_elicit_3.wav</td>\n",
       "      <td>bloc10.txt</td>\n",
       "      <td>4</td>\n",
       "    </tr>\n",
       "    <tr>\n",
       "      <th>4</th>\n",
       "      <td>/storage/emulated/0/ligaikuma/examples/bloc10....</td>\n",
       "      <td>bloc10.txt (line 5)</td>\n",
       "      <td>200702-231930_wol_8ec_elicit_4.wav</td>\n",
       "      <td>bloc10.txt</td>\n",
       "      <td>5</td>\n",
       "    </tr>\n",
       "  </tbody>\n",
       "</table>\n",
       "</div>"
      ],
      "text/plain": [
       "                                                   0             text_path  \\\n",
       "0  /storage/emulated/0/ligaikuma/examples/bloc10....  bloc10.txt (line 1)    \n",
       "1  /storage/emulated/0/ligaikuma/examples/bloc10....  bloc10.txt (line 2)    \n",
       "2  /storage/emulated/0/ligaikuma/examples/bloc10....  bloc10.txt (line 3)    \n",
       "3  /storage/emulated/0/ligaikuma/examples/bloc10....  bloc10.txt (line 4)    \n",
       "4  /storage/emulated/0/ligaikuma/examples/bloc10....  bloc10.txt (line 5)    \n",
       "\n",
       "                             wav_path        bloc  line  \n",
       "0  200702-231930_wol_8ec_elicit_0.wav  bloc10.txt     1  \n",
       "1  200702-231930_wol_8ec_elicit_1.wav  bloc10.txt     2  \n",
       "2  200702-231930_wol_8ec_elicit_2.wav  bloc10.txt     3  \n",
       "3  200702-231930_wol_8ec_elicit_3.wav  bloc10.txt     4  \n",
       "4  200702-231930_wol_8ec_elicit_4.wav  bloc10.txt     5  "
      ]
     },
     "execution_count": 123,
     "metadata": {},
     "output_type": "execute_result"
    }
   ],
   "source": [
    "import re\n",
    "df['line'] =df['line'].apply(lambda x: re.sub(\"[line \\).txt]\",\"\",x))\n",
    "df['line'] =df['line'].apply(lambda x: int(x))\n",
    "df['bloc'] =df['bloc'].apply(lambda x: re.sub(\"[ ]\",\"\",x))\n",
    "df['bloc'] =df['bloc'].apply(lambda x: x.split('.')[0]+'.txt')\n",
    "df.head()"
   ]
  },
  {
   "cell_type": "code",
   "execution_count": 125,
   "metadata": {},
   "outputs": [],
   "source": [
    "wol = []\n",
    "for i,bloc in zip(df['line'],df['bloc']):\n",
    "    text = pd.read_table(textpath+bloc, header=None)\n",
    "    wol.append(text[0][i-1])\n"
   ]
  },
  {
   "cell_type": "code",
   "execution_count": 126,
   "metadata": {},
   "outputs": [],
   "source": [
    "df['text'] = wol"
   ]
  },
  {
   "cell_type": "code",
   "execution_count": 127,
   "metadata": {},
   "outputs": [],
   "source": [
    "df['text'] = df['text'].apply(lambda x: x.replace('. ## .',''))"
   ]
  },
  {
   "cell_type": "code",
   "execution_count": 128,
   "metadata": {},
   "outputs": [
    {
     "name": "stdout",
     "output_type": "stream",
     "text": [
      "(2558, 6)\n"
     ]
    },
    {
     "data": {
      "text/html": [
       "<div>\n",
       "<style scoped>\n",
       "    .dataframe tbody tr th:only-of-type {\n",
       "        vertical-align: middle;\n",
       "    }\n",
       "\n",
       "    .dataframe tbody tr th {\n",
       "        vertical-align: top;\n",
       "    }\n",
       "\n",
       "    .dataframe thead th {\n",
       "        text-align: right;\n",
       "    }\n",
       "</style>\n",
       "<table border=\"1\" class=\"dataframe\">\n",
       "  <thead>\n",
       "    <tr style=\"text-align: right;\">\n",
       "      <th></th>\n",
       "      <th>0</th>\n",
       "      <th>text_path</th>\n",
       "      <th>wav_path</th>\n",
       "      <th>bloc</th>\n",
       "      <th>line</th>\n",
       "      <th>text</th>\n",
       "    </tr>\n",
       "  </thead>\n",
       "  <tbody>\n",
       "    <tr>\n",
       "      <th>0</th>\n",
       "      <td>/storage/emulated/0/ligaikuma/examples/bloc10....</td>\n",
       "      <td>bloc10.txt (line 1)</td>\n",
       "      <td>200702-231930_wol_8ec_elicit_0.wav</td>\n",
       "      <td>bloc10.txt</td>\n",
       "      <td>1</td>\n",
       "      <td>Nu ngi indee woon jiwu ji sapoN</td>\n",
       "    </tr>\n",
       "    <tr>\n",
       "      <th>1</th>\n",
       "      <td>/storage/emulated/0/ligaikuma/examples/bloc10....</td>\n",
       "      <td>bloc10.txt (line 2)</td>\n",
       "      <td>200702-231930_wol_8ec_elicit_1.wav</td>\n",
       "      <td>bloc10.txt</td>\n",
       "      <td>2</td>\n",
       "      <td>Nu ngi tollu dagana</td>\n",
       "    </tr>\n",
       "    <tr>\n",
       "      <th>2</th>\n",
       "      <td>/storage/emulated/0/ligaikuma/examples/bloc10....</td>\n",
       "      <td>bloc10.txt (line 3)</td>\n",
       "      <td>200702-231930_wol_8ec_elicit_2.wav</td>\n",
       "      <td>bloc10.txt</td>\n",
       "      <td>3</td>\n",
       "      <td>Nu ngi wàkkirlu ci yàlla</td>\n",
       "    </tr>\n",
       "    <tr>\n",
       "      <th>3</th>\n",
       "      <td>/storage/emulated/0/ligaikuma/examples/bloc10....</td>\n",
       "      <td>bloc10.txt (line 4)</td>\n",
       "      <td>200702-231930_wol_8ec_elicit_3.wav</td>\n",
       "      <td>bloc10.txt</td>\n",
       "      <td>4</td>\n",
       "      <td>Nu ñow nag def ko ci kër gi</td>\n",
       "    </tr>\n",
       "    <tr>\n",
       "      <th>4</th>\n",
       "      <td>/storage/emulated/0/ligaikuma/examples/bloc10....</td>\n",
       "      <td>bloc10.txt (line 5)</td>\n",
       "      <td>200702-231930_wol_8ec_elicit_4.wav</td>\n",
       "      <td>bloc10.txt</td>\n",
       "      <td>5</td>\n",
       "      <td>Nuggaayu néeg bee ko fi téye</td>\n",
       "    </tr>\n",
       "  </tbody>\n",
       "</table>\n",
       "</div>"
      ],
      "text/plain": [
       "                                                   0             text_path  \\\n",
       "0  /storage/emulated/0/ligaikuma/examples/bloc10....  bloc10.txt (line 1)    \n",
       "1  /storage/emulated/0/ligaikuma/examples/bloc10....  bloc10.txt (line 2)    \n",
       "2  /storage/emulated/0/ligaikuma/examples/bloc10....  bloc10.txt (line 3)    \n",
       "3  /storage/emulated/0/ligaikuma/examples/bloc10....  bloc10.txt (line 4)    \n",
       "4  /storage/emulated/0/ligaikuma/examples/bloc10....  bloc10.txt (line 5)    \n",
       "\n",
       "                             wav_path        bloc  line  \\\n",
       "0  200702-231930_wol_8ec_elicit_0.wav  bloc10.txt     1   \n",
       "1  200702-231930_wol_8ec_elicit_1.wav  bloc10.txt     2   \n",
       "2  200702-231930_wol_8ec_elicit_2.wav  bloc10.txt     3   \n",
       "3  200702-231930_wol_8ec_elicit_3.wav  bloc10.txt     4   \n",
       "4  200702-231930_wol_8ec_elicit_4.wav  bloc10.txt     5   \n",
       "\n",
       "                              text  \n",
       "0  Nu ngi indee woon jiwu ji sapoN  \n",
       "1              Nu ngi tollu dagana  \n",
       "2         Nu ngi wàkkirlu ci yàlla  \n",
       "3      Nu ñow nag def ko ci kër gi  \n",
       "4     Nuggaayu néeg bee ko fi téye  "
      ]
     },
     "execution_count": 128,
     "metadata": {},
     "output_type": "execute_result"
    }
   ],
   "source": [
    "print(df.shape)\n",
    "df.head()"
   ]
  },
  {
   "cell_type": "code",
   "execution_count": 129,
   "metadata": {},
   "outputs": [],
   "source": [
    "df.to_csv('Wavtext_dataset2.csv',index=None)"
   ]
  },
  {
   "cell_type": "code",
   "execution_count": 130,
   "metadata": {},
   "outputs": [],
   "source": [
    "## Let us verify\n",
    "df2 = pd.read_csv('Wavtext_dataset.csv')"
   ]
  },
  {
   "cell_type": "code",
   "execution_count": 131,
   "metadata": {},
   "outputs": [
    {
     "data": {
      "text/html": [
       "<div>\n",
       "<style scoped>\n",
       "    .dataframe tbody tr th:only-of-type {\n",
       "        vertical-align: middle;\n",
       "    }\n",
       "\n",
       "    .dataframe tbody tr th {\n",
       "        vertical-align: top;\n",
       "    }\n",
       "\n",
       "    .dataframe thead th {\n",
       "        text-align: right;\n",
       "    }\n",
       "</style>\n",
       "<table border=\"1\" class=\"dataframe\">\n",
       "  <thead>\n",
       "    <tr style=\"text-align: right;\">\n",
       "      <th></th>\n",
       "      <th>0</th>\n",
       "      <th>text_path</th>\n",
       "      <th>wav_path</th>\n",
       "      <th>bloc</th>\n",
       "      <th>line</th>\n",
       "      <th>text</th>\n",
       "    </tr>\n",
       "  </thead>\n",
       "  <tbody>\n",
       "    <tr>\n",
       "      <th>0</th>\n",
       "      <td>/storage/emulated/0/ligaikuma/examples/bloc10....</td>\n",
       "      <td>bloc10.txt (line 1)</td>\n",
       "      <td>200702-231930_wol_8ec_elicit_0.wav</td>\n",
       "      <td>bloc10.txt</td>\n",
       "      <td>1</td>\n",
       "      <td>Nu ngi indee woon jiwu ji sapoN</td>\n",
       "    </tr>\n",
       "    <tr>\n",
       "      <th>1</th>\n",
       "      <td>/storage/emulated/0/ligaikuma/examples/bloc10....</td>\n",
       "      <td>bloc10.txt (line 2)</td>\n",
       "      <td>200702-231930_wol_8ec_elicit_1.wav</td>\n",
       "      <td>bloc10.txt</td>\n",
       "      <td>2</td>\n",
       "      <td>Nu ngi tollu dagana</td>\n",
       "    </tr>\n",
       "    <tr>\n",
       "      <th>2</th>\n",
       "      <td>/storage/emulated/0/ligaikuma/examples/bloc10....</td>\n",
       "      <td>bloc10.txt (line 3)</td>\n",
       "      <td>200702-231930_wol_8ec_elicit_2.wav</td>\n",
       "      <td>bloc10.txt</td>\n",
       "      <td>3</td>\n",
       "      <td>Nu ngi wàkkirlu ci yàlla</td>\n",
       "    </tr>\n",
       "    <tr>\n",
       "      <th>3</th>\n",
       "      <td>/storage/emulated/0/ligaikuma/examples/bloc10....</td>\n",
       "      <td>bloc10.txt (line 4)</td>\n",
       "      <td>200702-231930_wol_8ec_elicit_3.wav</td>\n",
       "      <td>bloc10.txt</td>\n",
       "      <td>4</td>\n",
       "      <td>Nu ñow nag def ko ci kër gi</td>\n",
       "    </tr>\n",
       "    <tr>\n",
       "      <th>4</th>\n",
       "      <td>/storage/emulated/0/ligaikuma/examples/bloc10....</td>\n",
       "      <td>bloc10.txt (line 5)</td>\n",
       "      <td>200702-231930_wol_8ec_elicit_4.wav</td>\n",
       "      <td>bloc10.txt</td>\n",
       "      <td>5</td>\n",
       "      <td>Nuggaayu néeg bee ko fi téye</td>\n",
       "    </tr>\n",
       "  </tbody>\n",
       "</table>\n",
       "</div>"
      ],
      "text/plain": [
       "                                                   0             text_path  \\\n",
       "0  /storage/emulated/0/ligaikuma/examples/bloc10....  bloc10.txt (line 1)    \n",
       "1  /storage/emulated/0/ligaikuma/examples/bloc10....  bloc10.txt (line 2)    \n",
       "2  /storage/emulated/0/ligaikuma/examples/bloc10....  bloc10.txt (line 3)    \n",
       "3  /storage/emulated/0/ligaikuma/examples/bloc10....  bloc10.txt (line 4)    \n",
       "4  /storage/emulated/0/ligaikuma/examples/bloc10....  bloc10.txt (line 5)    \n",
       "\n",
       "                             wav_path         bloc  line  \\\n",
       "0  200702-231930_wol_8ec_elicit_0.wav  bloc10.txt      1   \n",
       "1  200702-231930_wol_8ec_elicit_1.wav  bloc10.txt      2   \n",
       "2  200702-231930_wol_8ec_elicit_2.wav  bloc10.txt      3   \n",
       "3  200702-231930_wol_8ec_elicit_3.wav  bloc10.txt      4   \n",
       "4  200702-231930_wol_8ec_elicit_4.wav  bloc10.txt      5   \n",
       "\n",
       "                              text  \n",
       "0  Nu ngi indee woon jiwu ji sapoN  \n",
       "1              Nu ngi tollu dagana  \n",
       "2         Nu ngi wàkkirlu ci yàlla  \n",
       "3      Nu ñow nag def ko ci kër gi  \n",
       "4     Nuggaayu néeg bee ko fi téye  "
      ]
     },
     "execution_count": 131,
     "metadata": {},
     "output_type": "execute_result"
    }
   ],
   "source": [
    "df2.head()"
   ]
  },
  {
   "cell_type": "code",
   "execution_count": null,
   "metadata": {},
   "outputs": [],
   "source": []
  },
  {
   "cell_type": "code",
   "execution_count": null,
   "metadata": {},
   "outputs": [],
   "source": []
  },
  {
   "cell_type": "code",
   "execution_count": null,
   "metadata": {},
   "outputs": [],
   "source": []
  },
  {
   "cell_type": "code",
   "execution_count": null,
   "metadata": {},
   "outputs": [],
   "source": []
  },
  {
   "cell_type": "code",
   "execution_count": 42,
   "metadata": {},
   "outputs": [],
   "source": [
    "linker = pd.read_table(datapath+folds[3]+'/'+folds[3]+'_linker.txt', header=None)"
   ]
  },
  {
   "cell_type": "code",
   "execution_count": 43,
   "metadata": {},
   "outputs": [
    {
     "data": {
      "text/plain": [
       "['/storage/emulated/0/ligaikuma/examples/bloc4.txt (line 1) ',\n",
       " ' /storage/emulated/0/ligaikuma/recordings/200625-151645_wol_8ec_elicit/200625-151645_wol_8ec_elicit_0.wav']"
      ]
     },
     "execution_count": 43,
     "metadata": {},
     "output_type": "execute_result"
    }
   ],
   "source": [
    "linker[0][0].split(';')"
   ]
  },
  {
   "cell_type": "code",
   "execution_count": 44,
   "metadata": {},
   "outputs": [],
   "source": [
    "linker['text_path'] = linker[0].apply(lambda x: x.split(';')[0].split('/')[-1])\n",
    "linker['wav_path'] = linker[0].apply(lambda x: x.split(';')[1].split('/')[-1])"
   ]
  },
  {
   "cell_type": "code",
   "execution_count": 45,
   "metadata": {},
   "outputs": [],
   "source": [
    "linker['bloc'] =linker['text_path'].apply(lambda x: x.split('(')[0])\n",
    "linker['line'] =linker['text_path'].apply(lambda x: int(x.split('(')[1][:-2].split()[1])) "
   ]
  },
  {
   "cell_type": "code",
   "execution_count": 46,
   "metadata": {},
   "outputs": [
    {
     "data": {
      "text/html": [
       "<div>\n",
       "<style scoped>\n",
       "    .dataframe tbody tr th:only-of-type {\n",
       "        vertical-align: middle;\n",
       "    }\n",
       "\n",
       "    .dataframe tbody tr th {\n",
       "        vertical-align: top;\n",
       "    }\n",
       "\n",
       "    .dataframe thead th {\n",
       "        text-align: right;\n",
       "    }\n",
       "</style>\n",
       "<table border=\"1\" class=\"dataframe\">\n",
       "  <thead>\n",
       "    <tr style=\"text-align: right;\">\n",
       "      <th></th>\n",
       "      <th>0</th>\n",
       "      <th>text_path</th>\n",
       "      <th>wav_path</th>\n",
       "      <th>bloc</th>\n",
       "      <th>line</th>\n",
       "    </tr>\n",
       "  </thead>\n",
       "  <tbody>\n",
       "    <tr>\n",
       "      <th>0</th>\n",
       "      <td>/storage/emulated/0/ligaikuma/examples/bloc4.t...</td>\n",
       "      <td>bloc4.txt (line 1)</td>\n",
       "      <td>200625-151645_wol_8ec_elicit_0.wav</td>\n",
       "      <td>bloc4.txt</td>\n",
       "      <td>1</td>\n",
       "    </tr>\n",
       "    <tr>\n",
       "      <th>1</th>\n",
       "      <td>/storage/emulated/0/ligaikuma/examples/bloc4.t...</td>\n",
       "      <td>bloc4.txt (line 2)</td>\n",
       "      <td>200625-151645_wol_8ec_elicit_1.wav</td>\n",
       "      <td>bloc4.txt</td>\n",
       "      <td>2</td>\n",
       "    </tr>\n",
       "    <tr>\n",
       "      <th>2</th>\n",
       "      <td>/storage/emulated/0/ligaikuma/examples/bloc4.t...</td>\n",
       "      <td>bloc4.txt (line 3)</td>\n",
       "      <td>200625-151645_wol_8ec_elicit_2.wav</td>\n",
       "      <td>bloc4.txt</td>\n",
       "      <td>3</td>\n",
       "    </tr>\n",
       "    <tr>\n",
       "      <th>3</th>\n",
       "      <td>/storage/emulated/0/ligaikuma/examples/bloc4.t...</td>\n",
       "      <td>bloc4.txt (line 4)</td>\n",
       "      <td>200625-151645_wol_8ec_elicit_3.wav</td>\n",
       "      <td>bloc4.txt</td>\n",
       "      <td>4</td>\n",
       "    </tr>\n",
       "    <tr>\n",
       "      <th>4</th>\n",
       "      <td>/storage/emulated/0/ligaikuma/examples/bloc4.t...</td>\n",
       "      <td>bloc4.txt (line 5)</td>\n",
       "      <td>200625-151645_wol_8ec_elicit_4.wav</td>\n",
       "      <td>bloc4.txt</td>\n",
       "      <td>5</td>\n",
       "    </tr>\n",
       "    <tr>\n",
       "      <th>5</th>\n",
       "      <td>/storage/emulated/0/ligaikuma/examples/bloc4.t...</td>\n",
       "      <td>bloc4.txt (line 6)</td>\n",
       "      <td>200625-151645_wol_8ec_elicit_5.wav</td>\n",
       "      <td>bloc4.txt</td>\n",
       "      <td>6</td>\n",
       "    </tr>\n",
       "    <tr>\n",
       "      <th>6</th>\n",
       "      <td>/storage/emulated/0/ligaikuma/examples/bloc4.t...</td>\n",
       "      <td>bloc4.txt (line 7)</td>\n",
       "      <td>200625-151645_wol_8ec_elicit_6.wav</td>\n",
       "      <td>bloc4.txt</td>\n",
       "      <td>7</td>\n",
       "    </tr>\n",
       "    <tr>\n",
       "      <th>7</th>\n",
       "      <td>/storage/emulated/0/ligaikuma/examples/bloc4.t...</td>\n",
       "      <td>bloc4.txt (line 8)</td>\n",
       "      <td>200625-151645_wol_8ec_elicit_7.wav</td>\n",
       "      <td>bloc4.txt</td>\n",
       "      <td>8</td>\n",
       "    </tr>\n",
       "    <tr>\n",
       "      <th>8</th>\n",
       "      <td>/storage/emulated/0/ligaikuma/examples/bloc4.t...</td>\n",
       "      <td>bloc4.txt (line 9)</td>\n",
       "      <td>200625-151645_wol_8ec_elicit_8.wav</td>\n",
       "      <td>bloc4.txt</td>\n",
       "      <td>9</td>\n",
       "    </tr>\n",
       "    <tr>\n",
       "      <th>9</th>\n",
       "      <td>/storage/emulated/0/ligaikuma/examples/bloc4.t...</td>\n",
       "      <td>bloc4.txt (line 10)</td>\n",
       "      <td>200625-151645_wol_8ec_elicit_9.wav</td>\n",
       "      <td>bloc4.txt</td>\n",
       "      <td>10</td>\n",
       "    </tr>\n",
       "    <tr>\n",
       "      <th>10</th>\n",
       "      <td>/storage/emulated/0/ligaikuma/examples/bloc4.t...</td>\n",
       "      <td>bloc4.txt (line 11)</td>\n",
       "      <td>200625-151645_wol_8ec_elicit_10.wav</td>\n",
       "      <td>bloc4.txt</td>\n",
       "      <td>11</td>\n",
       "    </tr>\n",
       "    <tr>\n",
       "      <th>11</th>\n",
       "      <td>/storage/emulated/0/ligaikuma/examples/bloc4.t...</td>\n",
       "      <td>bloc4.txt (line 12)</td>\n",
       "      <td>200625-151645_wol_8ec_elicit_11.wav</td>\n",
       "      <td>bloc4.txt</td>\n",
       "      <td>12</td>\n",
       "    </tr>\n",
       "    <tr>\n",
       "      <th>12</th>\n",
       "      <td>/storage/emulated/0/ligaikuma/examples/bloc4.t...</td>\n",
       "      <td>bloc4.txt (line 13)</td>\n",
       "      <td>200625-151645_wol_8ec_elicit_12.wav</td>\n",
       "      <td>bloc4.txt</td>\n",
       "      <td>13</td>\n",
       "    </tr>\n",
       "    <tr>\n",
       "      <th>13</th>\n",
       "      <td>/storage/emulated/0/ligaikuma/examples/bloc4.t...</td>\n",
       "      <td>bloc4.txt (line 14)</td>\n",
       "      <td>200625-151645_wol_8ec_elicit_13.wav</td>\n",
       "      <td>bloc4.txt</td>\n",
       "      <td>14</td>\n",
       "    </tr>\n",
       "    <tr>\n",
       "      <th>14</th>\n",
       "      <td>/storage/emulated/0/ligaikuma/examples/bloc4.t...</td>\n",
       "      <td>bloc4.txt (line 15)</td>\n",
       "      <td>200625-151645_wol_8ec_elicit_14.wav</td>\n",
       "      <td>bloc4.txt</td>\n",
       "      <td>15</td>\n",
       "    </tr>\n",
       "    <tr>\n",
       "      <th>15</th>\n",
       "      <td>/storage/emulated/0/ligaikuma/examples/bloc4.t...</td>\n",
       "      <td>bloc4.txt (line 16)</td>\n",
       "      <td>200625-151645_wol_8ec_elicit_15.wav</td>\n",
       "      <td>bloc4.txt</td>\n",
       "      <td>16</td>\n",
       "    </tr>\n",
       "    <tr>\n",
       "      <th>16</th>\n",
       "      <td>/storage/emulated/0/ligaikuma/examples/bloc4.t...</td>\n",
       "      <td>bloc4.txt (line 17)</td>\n",
       "      <td>200625-151645_wol_8ec_elicit_16.wav</td>\n",
       "      <td>bloc4.txt</td>\n",
       "      <td>17</td>\n",
       "    </tr>\n",
       "    <tr>\n",
       "      <th>17</th>\n",
       "      <td>/storage/emulated/0/ligaikuma/examples/bloc4.t...</td>\n",
       "      <td>bloc4.txt (line 18)</td>\n",
       "      <td>200625-151645_wol_8ec_elicit_17.wav</td>\n",
       "      <td>bloc4.txt</td>\n",
       "      <td>18</td>\n",
       "    </tr>\n",
       "    <tr>\n",
       "      <th>18</th>\n",
       "      <td>/storage/emulated/0/ligaikuma/examples/bloc4.t...</td>\n",
       "      <td>bloc4.txt (line 19)</td>\n",
       "      <td>200625-151645_wol_8ec_elicit_18.wav</td>\n",
       "      <td>bloc4.txt</td>\n",
       "      <td>19</td>\n",
       "    </tr>\n",
       "    <tr>\n",
       "      <th>19</th>\n",
       "      <td>/storage/emulated/0/ligaikuma/examples/bloc4.t...</td>\n",
       "      <td>bloc4.txt (line 20)</td>\n",
       "      <td>200625-151645_wol_8ec_elicit_19.wav</td>\n",
       "      <td>bloc4.txt</td>\n",
       "      <td>20</td>\n",
       "    </tr>\n",
       "  </tbody>\n",
       "</table>\n",
       "</div>"
      ],
      "text/plain": [
       "                                                    0             text_path  \\\n",
       "0   /storage/emulated/0/ligaikuma/examples/bloc4.t...   bloc4.txt (line 1)    \n",
       "1   /storage/emulated/0/ligaikuma/examples/bloc4.t...   bloc4.txt (line 2)    \n",
       "2   /storage/emulated/0/ligaikuma/examples/bloc4.t...   bloc4.txt (line 3)    \n",
       "3   /storage/emulated/0/ligaikuma/examples/bloc4.t...   bloc4.txt (line 4)    \n",
       "4   /storage/emulated/0/ligaikuma/examples/bloc4.t...   bloc4.txt (line 5)    \n",
       "5   /storage/emulated/0/ligaikuma/examples/bloc4.t...   bloc4.txt (line 6)    \n",
       "6   /storage/emulated/0/ligaikuma/examples/bloc4.t...   bloc4.txt (line 7)    \n",
       "7   /storage/emulated/0/ligaikuma/examples/bloc4.t...   bloc4.txt (line 8)    \n",
       "8   /storage/emulated/0/ligaikuma/examples/bloc4.t...   bloc4.txt (line 9)    \n",
       "9   /storage/emulated/0/ligaikuma/examples/bloc4.t...  bloc4.txt (line 10)    \n",
       "10  /storage/emulated/0/ligaikuma/examples/bloc4.t...  bloc4.txt (line 11)    \n",
       "11  /storage/emulated/0/ligaikuma/examples/bloc4.t...  bloc4.txt (line 12)    \n",
       "12  /storage/emulated/0/ligaikuma/examples/bloc4.t...  bloc4.txt (line 13)    \n",
       "13  /storage/emulated/0/ligaikuma/examples/bloc4.t...  bloc4.txt (line 14)    \n",
       "14  /storage/emulated/0/ligaikuma/examples/bloc4.t...  bloc4.txt (line 15)    \n",
       "15  /storage/emulated/0/ligaikuma/examples/bloc4.t...  bloc4.txt (line 16)    \n",
       "16  /storage/emulated/0/ligaikuma/examples/bloc4.t...  bloc4.txt (line 17)    \n",
       "17  /storage/emulated/0/ligaikuma/examples/bloc4.t...  bloc4.txt (line 18)    \n",
       "18  /storage/emulated/0/ligaikuma/examples/bloc4.t...  bloc4.txt (line 19)    \n",
       "19  /storage/emulated/0/ligaikuma/examples/bloc4.t...  bloc4.txt (line 20)    \n",
       "\n",
       "                               wav_path        bloc  line  \n",
       "0    200625-151645_wol_8ec_elicit_0.wav  bloc4.txt      1  \n",
       "1    200625-151645_wol_8ec_elicit_1.wav  bloc4.txt      2  \n",
       "2    200625-151645_wol_8ec_elicit_2.wav  bloc4.txt      3  \n",
       "3    200625-151645_wol_8ec_elicit_3.wav  bloc4.txt      4  \n",
       "4    200625-151645_wol_8ec_elicit_4.wav  bloc4.txt      5  \n",
       "5    200625-151645_wol_8ec_elicit_5.wav  bloc4.txt      6  \n",
       "6    200625-151645_wol_8ec_elicit_6.wav  bloc4.txt      7  \n",
       "7    200625-151645_wol_8ec_elicit_7.wav  bloc4.txt      8  \n",
       "8    200625-151645_wol_8ec_elicit_8.wav  bloc4.txt      9  \n",
       "9    200625-151645_wol_8ec_elicit_9.wav  bloc4.txt     10  \n",
       "10  200625-151645_wol_8ec_elicit_10.wav  bloc4.txt     11  \n",
       "11  200625-151645_wol_8ec_elicit_11.wav  bloc4.txt     12  \n",
       "12  200625-151645_wol_8ec_elicit_12.wav  bloc4.txt     13  \n",
       "13  200625-151645_wol_8ec_elicit_13.wav  bloc4.txt     14  \n",
       "14  200625-151645_wol_8ec_elicit_14.wav  bloc4.txt     15  \n",
       "15  200625-151645_wol_8ec_elicit_15.wav  bloc4.txt     16  \n",
       "16  200625-151645_wol_8ec_elicit_16.wav  bloc4.txt     17  \n",
       "17  200625-151645_wol_8ec_elicit_17.wav  bloc4.txt     18  \n",
       "18  200625-151645_wol_8ec_elicit_18.wav  bloc4.txt     19  \n",
       "19  200625-151645_wol_8ec_elicit_19.wav  bloc4.txt     20  "
      ]
     },
     "execution_count": 46,
     "metadata": {},
     "output_type": "execute_result"
    }
   ],
   "source": [
    "linker.head(20)"
   ]
  },
  {
   "cell_type": "code",
   "execution_count": 47,
   "metadata": {},
   "outputs": [
    {
     "data": {
      "text/html": [
       "<div>\n",
       "<style scoped>\n",
       "    .dataframe tbody tr th:only-of-type {\n",
       "        vertical-align: middle;\n",
       "    }\n",
       "\n",
       "    .dataframe tbody tr th {\n",
       "        vertical-align: top;\n",
       "    }\n",
       "\n",
       "    .dataframe thead th {\n",
       "        text-align: right;\n",
       "    }\n",
       "</style>\n",
       "<table border=\"1\" class=\"dataframe\">\n",
       "  <thead>\n",
       "    <tr style=\"text-align: right;\">\n",
       "      <th></th>\n",
       "      <th>0</th>\n",
       "    </tr>\n",
       "  </thead>\n",
       "  <tbody>\n",
       "    <tr>\n",
       "      <th>0</th>\n",
       "      <td>Nag yi màng nañu jëm jolof. ## .</td>\n",
       "    </tr>\n",
       "    <tr>\n",
       "      <th>1</th>\n",
       "      <td>Nag yi ratt jeexalu leen. ## .</td>\n",
       "    </tr>\n",
       "    <tr>\n",
       "      <th>2</th>\n",
       "      <td>Nagu ndaama amul jégén. ## .</td>\n",
       "    </tr>\n",
       "    <tr>\n",
       "      <th>3</th>\n",
       "      <td>Nagu àll du sore ndox. ## .</td>\n",
       "    </tr>\n",
       "    <tr>\n",
       "      <th>4</th>\n",
       "      <td>Naka asamaan set ñu walbatiku di reer mu daldi...</td>\n",
       "    </tr>\n",
       "  </tbody>\n",
       "</table>\n",
       "</div>"
      ],
      "text/plain": [
       "                                                   0\n",
       "0                   Nag yi màng nañu jëm jolof. ## .\n",
       "1                     Nag yi ratt jeexalu leen. ## .\n",
       "2                       Nagu ndaama amul jégén. ## .\n",
       "3                        Nagu àll du sore ndox. ## .\n",
       "4  Naka asamaan set ñu walbatiku di reer mu daldi..."
      ]
     },
     "execution_count": 47,
     "metadata": {},
     "output_type": "execute_result"
    }
   ],
   "source": [
    "test.head()"
   ]
  },
  {
   "cell_type": "code",
   "execution_count": 49,
   "metadata": {},
   "outputs": [],
   "source": [
    "test = pd.read_table(textpath+'bloc4.txt', header=None)\n",
    "linker['text'] = [test[0].iloc[i-1] for i in linker['line']]"
   ]
  },
  {
   "cell_type": "code",
   "execution_count": 122,
   "metadata": {},
   "outputs": [
    {
     "data": {
      "text/plain": [
       "Index([0, 'text_path', 'wav_path', 'bloc', 'line', 'text'], dtype='object')"
      ]
     },
     "execution_count": 122,
     "metadata": {},
     "output_type": "execute_result"
    }
   ],
   "source": [
    "column = linker.columns\n",
    "column"
   ]
  },
  {
   "cell_type": "code",
   "execution_count": 126,
   "metadata": {},
   "outputs": [
    {
     "name": "stderr",
     "output_type": "stream",
     "text": [
      "/usr/lib/python3/dist-packages/ipykernel_launcher.py:1: FutureWarning: Sorting because non-concatenation axis is not aligned. A future version\n",
      "of pandas will change to not sort by default.\n",
      "\n",
      "To accept the future behavior, pass 'sort=False'.\n",
      "\n",
      "To retain the current behavior and silence the warning, pass 'sort=True'.\n",
      "\n",
      "  \"\"\"Entry point for launching an IPython kernel.\n"
     ]
    }
   ],
   "source": [
    "df = pd.concat([linker,df])"
   ]
  },
  {
   "cell_type": "code",
   "execution_count": 128,
   "metadata": {},
   "outputs": [
    {
     "data": {
      "text/plain": [
       "(27, 6)"
      ]
     },
     "execution_count": 128,
     "metadata": {},
     "output_type": "execute_result"
    }
   ],
   "source": [
    "df.shape"
   ]
  },
  {
   "cell_type": "code",
   "execution_count": 23,
   "metadata": {},
   "outputs": [
    {
     "data": {
      "text/plain": [
       "['200702-231930_wol_8ec_elicit_1.wav',\n",
       " '200702-231930_wol_8ec_elicit_4-metadata.json',\n",
       " '200702-231930_wol_8ec_elicit_18-metadata.json',\n",
       " '200702-231930_wol_8ec_elicit_7-metadata.json',\n",
       " '200702-231930_wol_8ec_elicit_0-metadata.json',\n",
       " '200702-231930_wol_8ec_elicit_25.wav',\n",
       " '200702-231930_wol_8ec_elicit_8.wav',\n",
       " '200702-231930_wol_8ec_elicit_linker.txt',\n",
       " '200702-231930_wol_8ec_elicit_26.wav',\n",
       " '200702-231930_wol_8ec_elicit_9-metadata.json',\n",
       " '200702-231930_wol_8ec_elicit_23.wav',\n",
       " '200702-231930_wol_8ec_elicit_19.wav',\n",
       " '200702-231930_wol_8ec_elicit_22-metadata.json',\n",
       " '200702-231930_wol_8ec_elicit_24-metadata.json',\n",
       " '200702-231930_wol_8ec_elicit_10-metadata.json',\n",
       " '200702-231930_wol_8ec_elicit_2.wav',\n",
       " '200702-231930_wol_8ec_elicit_11-metadata.json',\n",
       " '200702-231930_wol_8ec_elicit_14-metadata.json',\n",
       " '200702-231930_wol_8ec_elicit_0.wav',\n",
       " '200702-231930_wol_8ec_elicit_19-metadata.json',\n",
       " '200702-231930_wol_8ec_elicit_3.wav',\n",
       " '200702-231930_wol_8ec_elicit_3-metadata.json',\n",
       " '200702-231930_wol_8ec_elicit_20-metadata.json',\n",
       " '200702-231930_wol_8ec_elicit_10.wav',\n",
       " '200702-231930_wol_8ec_elicit_1-metadata.json',\n",
       " '200702-231930_wol_8ec_elicit_16.wav',\n",
       " '200702-231930_wol_8ec_elicit_13-metadata.json',\n",
       " '200702-231930_wol_8ec_elicit_26-metadata.json',\n",
       " '200702-231930_wol_8ec_elicit_13.wav',\n",
       " '200702-231930_wol_8ec_elicit_15-metadata.json',\n",
       " '200702-231930_wol_8ec_elicit_8-metadata.json',\n",
       " '200702-231930_wol_8ec_elicit_12.wav',\n",
       " '200702-231930_wol_8ec_elicit_6.wav',\n",
       " '200702-231930_wol_8ec_elicit_24.wav',\n",
       " '200702-231930_wol_8ec_elicit_17-metadata.json',\n",
       " '200702-231930_wol_8ec_elicit_6-metadata.json',\n",
       " '200702-231930_wol_8ec_elicit_11.wav',\n",
       " '200702-231930_wol_8ec_elicit_14.wav',\n",
       " '200702-231930_wol_8ec_elicit_21.wav',\n",
       " '200702-231930_wol_8ec_elicit_22.wav',\n",
       " '200702-231930_wol_8ec_elicit_15.wav',\n",
       " '200702-231930_wol_8ec_elicit_7.wav',\n",
       " '200702-231930_wol_8ec_elicit_4.wav',\n",
       " '200702-231930_wol_8ec_elicit_20.wav',\n",
       " '200702-231930_wol_8ec_elicit_23-metadata.json',\n",
       " '200702-231930_wol_8ec_elicit_9.wav',\n",
       " '200702-231930_wol_8ec_elicit_5-metadata.json',\n",
       " '200702-231930_wol_8ec_elicit_21-metadata.json',\n",
       " '200702-231930_wol_8ec_elicit_16-metadata.json',\n",
       " '200702-231930_wol_8ec_elicit_25-metadata.json',\n",
       " '200702-231930_wol_8ec_elicit_5.wav',\n",
       " '200702-231930_wol_8ec_elicit_18.wav',\n",
       " '200702-231930_wol_8ec_elicit_12-metadata.json',\n",
       " '200702-231930_wol_8ec_elicit_2-metadata.json',\n",
       " '200702-231930_wol_8ec_elicit_17.wav']"
      ]
     },
     "execution_count": 23,
     "metadata": {},
     "output_type": "execute_result"
    }
   ],
   "source": [
    "os.listdir(datapath+fold[0])"
   ]
  },
  {
   "cell_type": "code",
   "execution_count": null,
   "metadata": {},
   "outputs": [],
   "source": []
  }
 ],
 "metadata": {
  "kernelspec": {
   "display_name": "Python 3",
   "language": "python",
   "name": "python3"
  },
  "language_info": {
   "codemirror_mode": {
    "name": "ipython",
    "version": 3
   },
   "file_extension": ".py",
   "mimetype": "text/x-python",
   "name": "python",
   "nbconvert_exporter": "python",
   "pygments_lexer": "ipython3",
   "version": "3.7.3"
  }
 },
 "nbformat": 4,
 "nbformat_minor": 2
}
